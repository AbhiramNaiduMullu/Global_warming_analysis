{
 "cells": [
  {
   "cell_type": "markdown",
   "metadata": {},
   "source": [
    "## Forest Area change"
   ]
  },
  {
   "cell_type": "markdown",
   "metadata": {},
   "source": [
    "## importing libraries"
   ]
  },
  {
   "cell_type": "code",
   "execution_count": 29,
   "metadata": {},
   "outputs": [],
   "source": [
    "%matplotlib inline\n",
    "import numpy as np\n",
    "import pandas as pd\n",
    "import matplotlib.pyplot as plt\n",
    "from pylab import *\n",
    "from scipy.stats import norm\n",
    "from ipywidgets import interact,IntSlider,FloatSlider"
   ]
  },
  {
   "cell_type": "code",
   "execution_count": 30,
   "metadata": {},
   "outputs": [
    {
     "data": {
      "text/html": [
       "<div>\n",
       "<style scoped>\n",
       "    .dataframe tbody tr th:only-of-type {\n",
       "        vertical-align: middle;\n",
       "    }\n",
       "\n",
       "    .dataframe tbody tr th {\n",
       "        vertical-align: top;\n",
       "    }\n",
       "\n",
       "    .dataframe thead th {\n",
       "        text-align: right;\n",
       "    }\n",
       "</style>\n",
       "<table border=\"1\" class=\"dataframe\">\n",
       "  <thead>\n",
       "    <tr style=\"text-align: right;\">\n",
       "      <th></th>\n",
       "      <th>country name</th>\n",
       "      <th>1990</th>\n",
       "      <th>1991</th>\n",
       "      <th>1992</th>\n",
       "      <th>1993</th>\n",
       "      <th>1994</th>\n",
       "      <th>1995</th>\n",
       "      <th>1996</th>\n",
       "      <th>1997</th>\n",
       "      <th>1998</th>\n",
       "      <th>...</th>\n",
       "      <th>2009</th>\n",
       "      <th>2010</th>\n",
       "      <th>2011</th>\n",
       "      <th>2012</th>\n",
       "      <th>2013</th>\n",
       "      <th>2014</th>\n",
       "      <th>2015</th>\n",
       "      <th>2016</th>\n",
       "      <th>2017</th>\n",
       "      <th>2018</th>\n",
       "    </tr>\n",
       "  </thead>\n",
       "  <tbody>\n",
       "    <tr>\n",
       "      <th>0</th>\n",
       "      <td>Aruba</td>\n",
       "      <td>4.2</td>\n",
       "      <td>4.20</td>\n",
       "      <td>4.20</td>\n",
       "      <td>4.20</td>\n",
       "      <td>4.20</td>\n",
       "      <td>4.20</td>\n",
       "      <td>4.20</td>\n",
       "      <td>4.20</td>\n",
       "      <td>4.20</td>\n",
       "      <td>...</td>\n",
       "      <td>4.20</td>\n",
       "      <td>4.2</td>\n",
       "      <td>4.200</td>\n",
       "      <td>4.20</td>\n",
       "      <td>4.200</td>\n",
       "      <td>4.20</td>\n",
       "      <td>4.200</td>\n",
       "      <td>4.2</td>\n",
       "      <td>4.200</td>\n",
       "      <td>4.2</td>\n",
       "    </tr>\n",
       "    <tr>\n",
       "      <th>1</th>\n",
       "      <td>Afghanistan</td>\n",
       "      <td>12084.4</td>\n",
       "      <td>12084.40</td>\n",
       "      <td>12084.40</td>\n",
       "      <td>12084.40</td>\n",
       "      <td>12084.40</td>\n",
       "      <td>12084.40</td>\n",
       "      <td>12084.40</td>\n",
       "      <td>12084.40</td>\n",
       "      <td>12084.40</td>\n",
       "      <td>...</td>\n",
       "      <td>12084.40</td>\n",
       "      <td>12084.4</td>\n",
       "      <td>12084.400</td>\n",
       "      <td>12084.40</td>\n",
       "      <td>12084.400</td>\n",
       "      <td>12084.40</td>\n",
       "      <td>12084.400</td>\n",
       "      <td>12084.4</td>\n",
       "      <td>12084.400</td>\n",
       "      <td>12084.4</td>\n",
       "    </tr>\n",
       "    <tr>\n",
       "      <th>2</th>\n",
       "      <td>Angola</td>\n",
       "      <td>792627.8</td>\n",
       "      <td>791073.63</td>\n",
       "      <td>789519.46</td>\n",
       "      <td>787965.29</td>\n",
       "      <td>786411.12</td>\n",
       "      <td>784856.95</td>\n",
       "      <td>783302.78</td>\n",
       "      <td>781748.61</td>\n",
       "      <td>780194.44</td>\n",
       "      <td>...</td>\n",
       "      <td>727130.61</td>\n",
       "      <td>721580.0</td>\n",
       "      <td>716029.380</td>\n",
       "      <td>710478.76</td>\n",
       "      <td>704928.140</td>\n",
       "      <td>699377.52</td>\n",
       "      <td>693826.900</td>\n",
       "      <td>688276.2</td>\n",
       "      <td>682725.700</td>\n",
       "      <td>677175.1</td>\n",
       "    </tr>\n",
       "    <tr>\n",
       "      <th>3</th>\n",
       "      <td>Albania</td>\n",
       "      <td>7888.0</td>\n",
       "      <td>7868.50</td>\n",
       "      <td>7849.00</td>\n",
       "      <td>7829.50</td>\n",
       "      <td>7810.00</td>\n",
       "      <td>7790.50</td>\n",
       "      <td>7771.00</td>\n",
       "      <td>7751.50</td>\n",
       "      <td>7732.00</td>\n",
       "      <td>...</td>\n",
       "      <td>7807.93</td>\n",
       "      <td>7820.7</td>\n",
       "      <td>7834.935</td>\n",
       "      <td>7849.17</td>\n",
       "      <td>7863.405</td>\n",
       "      <td>7877.64</td>\n",
       "      <td>7891.875</td>\n",
       "      <td>7891.8</td>\n",
       "      <td>7889.025</td>\n",
       "      <td>7889.0</td>\n",
       "    </tr>\n",
       "    <tr>\n",
       "      <th>4</th>\n",
       "      <td>Andorra</td>\n",
       "      <td>160.0</td>\n",
       "      <td>160.00</td>\n",
       "      <td>160.00</td>\n",
       "      <td>160.00</td>\n",
       "      <td>160.00</td>\n",
       "      <td>160.00</td>\n",
       "      <td>160.00</td>\n",
       "      <td>160.00</td>\n",
       "      <td>160.00</td>\n",
       "      <td>...</td>\n",
       "      <td>160.00</td>\n",
       "      <td>160.0</td>\n",
       "      <td>160.000</td>\n",
       "      <td>160.00</td>\n",
       "      <td>160.000</td>\n",
       "      <td>160.00</td>\n",
       "      <td>160.000</td>\n",
       "      <td>160.0</td>\n",
       "      <td>160.000</td>\n",
       "      <td>160.0</td>\n",
       "    </tr>\n",
       "  </tbody>\n",
       "</table>\n",
       "<p>5 rows × 30 columns</p>\n",
       "</div>"
      ],
      "text/plain": [
       "  country name      1990       1991       1992       1993       1994  \\\n",
       "0        Aruba       4.2       4.20       4.20       4.20       4.20   \n",
       "1  Afghanistan   12084.4   12084.40   12084.40   12084.40   12084.40   \n",
       "2       Angola  792627.8  791073.63  789519.46  787965.29  786411.12   \n",
       "3      Albania    7888.0    7868.50    7849.00    7829.50    7810.00   \n",
       "4      Andorra     160.0     160.00     160.00     160.00     160.00   \n",
       "\n",
       "        1995       1996       1997       1998  ...       2009      2010  \\\n",
       "0       4.20       4.20       4.20       4.20  ...       4.20       4.2   \n",
       "1   12084.40   12084.40   12084.40   12084.40  ...   12084.40   12084.4   \n",
       "2  784856.95  783302.78  781748.61  780194.44  ...  727130.61  721580.0   \n",
       "3    7790.50    7771.00    7751.50    7732.00  ...    7807.93    7820.7   \n",
       "4     160.00     160.00     160.00     160.00  ...     160.00     160.0   \n",
       "\n",
       "         2011       2012        2013       2014        2015      2016  \\\n",
       "0       4.200       4.20       4.200       4.20       4.200       4.2   \n",
       "1   12084.400   12084.40   12084.400   12084.40   12084.400   12084.4   \n",
       "2  716029.380  710478.76  704928.140  699377.52  693826.900  688276.2   \n",
       "3    7834.935    7849.17    7863.405    7877.64    7891.875    7891.8   \n",
       "4     160.000     160.00     160.000     160.00     160.000     160.0   \n",
       "\n",
       "         2017      2018  \n",
       "0       4.200       4.2  \n",
       "1   12084.400   12084.4  \n",
       "2  682725.700  677175.1  \n",
       "3    7889.025    7889.0  \n",
       "4     160.000     160.0  \n",
       "\n",
       "[5 rows x 30 columns]"
      ]
     },
     "execution_count": 30,
     "metadata": {},
     "output_type": "execute_result"
    }
   ],
   "source": [
    "df = pd.read_excel(r'Forest Area.xlsx')\n",
    "df.to_csv\n",
    "df.head()"
   ]
  },
  {
   "cell_type": "code",
   "execution_count": 31,
   "metadata": {},
   "outputs": [
    {
     "data": {
      "text/plain": [
       "Index([1990, 2018], dtype='object')"
      ]
     },
     "execution_count": 31,
     "metadata": {},
     "output_type": "execute_result"
    }
   ],
   "source": [
    "year=df.columns[1::28]\n",
    "year"
   ]
  },
  {
   "cell_type": "markdown",
   "metadata": {},
   "source": [
    "## Calculating Random Variable"
   ]
  },
  {
   "cell_type": "code",
   "execution_count": 32,
   "metadata": {},
   "outputs": [],
   "source": [
    "yr1990=df[year[0]]\n",
    "yr2018=df[year[1]]\n",
    "fraction_of_change=(yr2018-yr1990)/yr1990\n",
    "\n",
    "#AREA_CHANGE IS TAKEN AS RANDOM VARIABLE\n",
    "\n",
    "area_change=yr2018-yr1990\n",
    "RV1=area_change.to_list()"
   ]
  },
  {
   "cell_type": "markdown",
   "metadata": {},
   "source": [
    "### PLOT FOR FRACTION OF CHANGE IN FOREST COVER AREA"
   ]
  },
  {
   "cell_type": "code",
   "execution_count": 33,
   "metadata": {
    "scrolled": true
   },
   "outputs": [
    {
     "data": {
      "image/png": "[encoded data removed]",
      "text/plain": [
       "<Figure size 1440x432 with 1 Axes>"
      ]
     },
     "metadata": {
      "needs_background": "light"
     },
     "output_type": "display_data"
    }
   ],
   "source": [
    "plt.figure(figsize=(20,6))\n",
    "plt.plot(fraction_of_change,'g-');\n",
    "ylabel('FRACTION OF AREA CHANGE')\n",
    "xlabel('COUNTRIES')\n",
    "title('FRACTION OF FOREST AREA CHANGE FROM 1990 TO 2018');"
   ]
  },
  {
   "cell_type": "markdown",
   "metadata": {},
   "source": [
    "## PLOT FOR AREA OF CHANGE IN  FOREST AREA AGAINST COUNTRIES"
   ]
  },
  {
   "cell_type": "code",
   "execution_count": 34,
   "metadata": {},
   "outputs": [
    {
     "data": {
      "image/png": "[encoded data removed]",
      "text/plain": [
       "<Figure size 1440x720 with 1 Axes>"
      ]
     },
     "metadata": {
      "needs_background": "light"
     },
     "output_type": "display_data"
    }
   ],
   "source": [
    "x=np.linspace(0,258,258)\n",
    "plt.figure(figsize=(20,10))\n",
    "plt.plot(x,RV1,'g-');\n",
    "ylabel('FOREST AREA CHANGE')\n",
    "xlabel('COUNTRIES')\n",
    "title('FOREST AREA CHANGE FROM 1990 TO 2018');"
   ]
  },
  {
   "cell_type": "markdown",
   "metadata": {},
   "source": [
    "## BAR GRAPH"
   ]
  },
  {
   "cell_type": "code",
   "execution_count": 35,
   "metadata": {},
   "outputs": [
    {
     "data": {
      "image/png": "[encoded data removed]",
      "text/plain": [
       "<Figure size 1440x720 with 1 Axes>"
      ]
     },
     "metadata": {
      "needs_background": "light"
     },
     "output_type": "display_data"
    }
   ],
   "source": [
    "\n",
    "plt.figure(figsize=(20,10))\n",
    "plt.bar(x,RV1)\n",
    "ylabel('FOREST AREA CHANGE')\n",
    "xlabel('COUNTRIES')\n",
    "title('FOREST AREA CHANGE FROM 1990 TO 2018');"
   ]
  },
  {
   "cell_type": "markdown",
   "metadata": {},
   "source": [
    "## HISTOGRAM"
   ]
  },
  {
   "cell_type": "code",
   "execution_count": 36,
   "metadata": {},
   "outputs": [
    {
     "data": {
      "image/png": "[encoded data removed]",
      "text/plain": [
       "<Figure size 1440x720 with 1 Axes>"
      ]
     },
     "metadata": {
      "needs_background": "light"
     },
     "output_type": "display_data"
    }
   ],
   "source": [
    "plt.figure(figsize=(20,10))\n",
    "plt.hist(RV1,bins=50,density=True);"
   ]
  },
  {
   "cell_type": "markdown",
   "metadata": {},
   "source": [
    "## TRUE PARAMETERS"
   ]
  },
  {
   "cell_type": "code",
   "execution_count": 37,
   "metadata": {},
   "outputs": [
    {
     "name": "stdout",
     "output_type": "stream",
     "text": [
      "True Mean of Forest area change from 1990 to 2018 is  -65526.33608267717 \n",
      "\n",
      "\n",
      "Standard deviation of Forest area change from 1990 to 2018 is  272748.79237178335\n"
     ]
    }
   ],
   "source": [
    "mu=np.mean(area_change)  #TRUE MEAN\n",
    "sigma=np.std(area_change)  #TRUE STANDARD DEVIATION\n",
    "\n",
    "print('True Mean of Forest area change from 1990 to 2018 is ',mu,'\\n\\n')\n",
    "print('Standard deviation of Forest area change from 1990 to 2018 is ',sigma)"
   ]
  },
  {
   "cell_type": "markdown",
   "metadata": {},
   "source": [
    "## SAMPLING DISTRIBUTION OF MEAN"
   ]
  },
  {
   "cell_type": "code",
   "execution_count": 38,
   "metadata": {},
   "outputs": [
    {
     "data": {
      "application/vnd.jupyter.widget-view+json": {
       "model_id": "1547555baada487fb68d2e26176f1755",
       "version_major": 2,
       "version_minor": 0
      },
      "text/plain": [
       "interactive(children=(IntSlider(value=100, description='sample_size', step=5), Output()), _dom_classes=('widge…"
      ]
     },
     "metadata": {},
     "output_type": "display_data"
    }
   ],
   "source": [
    "@interact\n",
    "def sampling_mean(sample_size=IntSlider(start=1,step=5,value=100)):\n",
    "    n=sample_size\n",
    "    nexp=10000\n",
    "    sample_mean=[]\n",
    "    for i in np.arange(nexp):\n",
    "        sample_mean.append(np.mean(area_change.sample(n,replace=True)))\n",
    "    dfmean=pd.DataFrame({'sample mean':sample_mean})\n",
    "    plt.figure(figsize=(20,10))\n",
    "    plt.hist(sample_mean,bins=50,density=True);\n",
    "    ymin,ymax=ylim()\n",
    "    xlim(-300000,150000)\n",
    "    title('HISTOGRAM OF SAMPLE MEAN')\n",
    "    plt.vlines(mu,0.,ymax,color='r',lw=3,alpha=0.6)#VERTICAL LINE CORRESPONDING TO TRUE MEAN"
   ]
  },
  {
   "cell_type": "markdown",
   "metadata": {},
   "source": [
    "## TRUE VARIANCE"
   ]
  },
  {
   "cell_type": "code",
   "execution_count": 39,
   "metadata": {},
   "outputs": [
    {
     "name": "stdout",
     "output_type": "stream",
     "text": [
      "True Variance is 74391903740.26617\n"
     ]
    }
   ],
   "source": [
    "true_variance=sigma**2\n",
    "print('True Variance is',true_variance)"
   ]
  },
  {
   "cell_type": "markdown",
   "metadata": {},
   "source": [
    "## SAMPLING DISTRIBUTION OF VARIANCE"
   ]
  },
  {
   "cell_type": "code",
   "execution_count": 40,
   "metadata": {},
   "outputs": [
    {
     "data": {
      "application/vnd.jupyter.widget-view+json": {
       "model_id": "450f25e9e49c4df5b032215bb34b213e",
       "version_major": 2,
       "version_minor": 0
      },
      "text/plain": [
       "interactive(children=(IntSlider(value=100, description='sample_size', step=5), Output()), _dom_classes=('widge…"
      ]
     },
     "metadata": {},
     "output_type": "display_data"
    }
   ],
   "source": [
    "@interact\n",
    "def sampling_variance(sample_size=IntSlider(start=1,step=5,value=100)):\n",
    "    n=sample_size\n",
    "    nexp=10000\n",
    "    sample_variance=[]\n",
    "    for i in np.arange(nexp):\n",
    "        sample=area_change.sample(n,replace=True)\n",
    "        terms=[]\n",
    "        for j in sample.index:\n",
    "            terms.append(((area_change[j]-np.mean(sample))**2)/(n-1))\n",
    "        S2=np.sum(terms)\n",
    "        sample_variance.append(S2)\n",
    "    dfvar=pd.DataFrame({'sample variance':sample_variance})\n",
    "    plt.figure(figsize=(20,10))\n",
    "    plt.hist(sample_variance,bins=50,density=True);\n",
    "    ymin,ymax=ylim() \n",
    "    xlim(-2e11,2.75e11)\n",
    "    title('HISTOGRAM OF SAMPLE VARIANCE')\n",
    "    plt.vlines(sigma**2,0.,ymax,color='r',lw=3,alpha=0.5)#VERTICAL LINE CORRESPONDING TO TRUE VARIANCE"
   ]
  },
  {
   "cell_type": "markdown",
   "metadata": {},
   "source": [
    "# INTERVAL ESTIMATION"
   ]
  },
  {
   "cell_type": "markdown",
   "metadata": {},
   "source": [
    "### 1) MEAN"
   ]
  },
  {
   "cell_type": "code",
   "execution_count": 41,
   "metadata": {},
   "outputs": [
    {
     "data": {
      "application/vnd.jupyter.widget-view+json": {
       "model_id": "2a63359a99e5442ba868842b88213de0",
       "version_major": 2,
       "version_minor": 0
      },
      "text/plain": [
       "interactive(children=(IntSlider(value=50, description='n', max=150, min=-50), FloatSlider(value=95.0, descript…"
      ]
     },
     "metadata": {},
     "output_type": "display_data"
    }
   ],
   "source": [
    "@interact\n",
    "def interval_mean(n=50,confidence=FloatSlider(start=1,stop=100,step=5,value=95)):\n",
    "    sample_mean=[]\n",
    "    for i in np.arange(10000):\n",
    "        sample_mean.append(np.mean(area_change.sample(n,replace=True)))\n",
    "    cmin,cmax=np.percentile(sample_mean,[(100-confidence)/2,100-((100-confidence)/2)])\n",
    "    plt.figure(figsize=(20,10))\n",
    "    plt.hist(sample_mean,bins=50,density=True);\n",
    "    ymin,ymax=ylim()\n",
    "    plt.vlines(cmin,0.,ymax,color='r',lw=1,alpha=1)\n",
    "    plt.vlines(cmax,0.,ymax,color='r',lw=1,alpha=1)\n",
    "    print('Confidence interval is [',cmin,',',cmax,']')"
   ]
  },
  {
   "cell_type": "markdown",
   "metadata": {},
   "source": [
    "### 2) VARIANCE"
   ]
  },
  {
   "cell_type": "code",
   "execution_count": 42,
   "metadata": {},
   "outputs": [
    {
     "data": {
      "application/vnd.jupyter.widget-view+json": {
       "model_id": "048217febebf436d908c3121c786becc",
       "version_major": 2,
       "version_minor": 0
      },
      "text/plain": [
       "interactive(children=(IntSlider(value=50, description='n', max=150, min=-50), FloatSlider(value=95.0, descript…"
      ]
     },
     "metadata": {},
     "output_type": "display_data"
    }
   ],
   "source": [
    "@interact\n",
    "def interval_variance(n=50,confidence=FloatSlider(start=1,stop=100,step=5,value=95)):\n",
    "    sample_variance=[]\n",
    "    for i in np.arange(10000):\n",
    "        sample=area_change.sample(n,replace=True)\n",
    "        terms=[]\n",
    "        for j in sample.index:\n",
    "            terms.append(((area_change[j]-np.mean(sample))**2)/(n-1))\n",
    "        S2=np.sum(terms)\n",
    "        sample_variance.append(S2)\n",
    "    cmin,cmax=np.nanpercentile(sample_variance,[(100-confidence)/2,100-((100-confidence)/2)])\n",
    "    plt.figure(figsize=(20,10))\n",
    "    plt.hist(sample_variance,bins=50,density=True);\n",
    "    ymin,ymax=ylim()\n",
    "    plt.vlines(cmin,0.,ymax,color='r',lw=1,alpha=1)\n",
    "    plt.vlines(cmax,0.,ymax,color='r',lw=1,alpha=1)\n",
    "    print('Confidence interval is [',cmin,',',cmax,']')"
   ]
  },
  {
   "cell_type": "markdown",
   "metadata": {},
   "source": [
    "------------------------------------------------------------------------------------------------------------"
   ]
  },
  {
   "cell_type": "markdown",
   "metadata": {},
   "source": [
    "## Random Variable:- Absolute change of CO2 emissions around the world"
   ]
  },
  {
   "cell_type": "markdown",
   "metadata": {},
   "source": [
    "1) As all greenhouse gases are hard to analyse, We are considering the Absolute change in single greenhouse gas\n",
    "i.e CO2.\n",
    "3) As the data for CO2 emission is in order of million and billion tonnes I have divided the absolute change by    100000000 to scale it down,to visualize better.\n",
    "3) As CO2 occupies 80percent of all the greenhouse gases we are considering it ."
   ]
  },
  {
   "cell_type": "code",
   "execution_count": 1,
   "metadata": {},
   "outputs": [],
   "source": [
    "%matplotlib inline\n",
    "import pandas as pd\n",
    "import numpy as np\n",
    "import matplotlib.pyplot as plt"
   ]
  },
  {
   "cell_type": "code",
   "execution_count": 2,
   "metadata": {},
   "outputs": [
    {
     "data": {
      "text/html": [
       "<div>\n",
       "<style scoped>\n",
       "    .dataframe tbody tr th:only-of-type {\n",
       "        vertical-align: middle;\n",
       "    }\n",
       "\n",
       "    .dataframe tbody tr th {\n",
       "        vertical-align: top;\n",
       "    }\n",
       "\n",
       "    .dataframe thead th {\n",
       "        text-align: right;\n",
       "    }\n",
       "</style>\n",
       "<table border=\"1\" class=\"dataframe\">\n",
       "  <thead>\n",
       "    <tr style=\"text-align: right;\">\n",
       "      <th></th>\n",
       "      <th>Country</th>\n",
       "      <th>C02 emissions in 1999</th>\n",
       "      <th>CO2 emissions in2018</th>\n",
       "      <th>AbsoluteChange(1999-2018)</th>\n",
       "    </tr>\n",
       "  </thead>\n",
       "  <tbody>\n",
       "    <tr>\n",
       "      <th>0</th>\n",
       "      <td>Afghanistan</td>\n",
       "      <td>8,09,512</td>\n",
       "      <td>10450000</td>\n",
       "      <td>0.096405</td>\n",
       "    </tr>\n",
       "    <tr>\n",
       "      <th>1</th>\n",
       "      <td>Albania</td>\n",
       "      <td>8,09,512</td>\n",
       "      <td>5400000</td>\n",
       "      <td>0.045905</td>\n",
       "    </tr>\n",
       "    <tr>\n",
       "      <th>2</th>\n",
       "      <td>Andorra</td>\n",
       "      <td>5,12,960</td>\n",
       "      <td>4,64,210</td>\n",
       "      <td>-0.000487</td>\n",
       "    </tr>\n",
       "    <tr>\n",
       "      <th>3</th>\n",
       "      <td>Angola</td>\n",
       "      <td>9130000</td>\n",
       "      <td>37680000</td>\n",
       "      <td>0.285500</td>\n",
       "    </tr>\n",
       "    <tr>\n",
       "      <th>4</th>\n",
       "      <td>Anguilla</td>\n",
       "      <td>80,608</td>\n",
       "      <td>1,47,145</td>\n",
       "      <td>0.000665</td>\n",
       "    </tr>\n",
       "  </tbody>\n",
       "</table>\n",
       "</div>"
      ],
      "text/plain": [
       "       Country C02 emissions in 1999 CO2 emissions in2018  \\\n",
       "0  Afghanistan              8,09,512             10450000   \n",
       "1      Albania              8,09,512              5400000   \n",
       "2      Andorra              5,12,960             4,64,210   \n",
       "3       Angola               9130000             37680000   \n",
       "4     Anguilla                80,608             1,47,145   \n",
       "\n",
       "   AbsoluteChange(1999-2018)  \n",
       "0                   0.096405  \n",
       "1                   0.045905  \n",
       "2                  -0.000487  \n",
       "3                   0.285500  \n",
       "4                   0.000665  "
      ]
     },
     "execution_count": 2,
     "metadata": {},
     "output_type": "execute_result"
    }
   ],
   "source": [
    "df=pd.read_csv('Absolute_change.csv')\n",
    "df.head()"
   ]
  },
  {
   "cell_type": "code",
   "execution_count": 3,
   "metadata": {},
   "outputs": [
    {
     "data": {
      "text/html": [
       "<div>\n",
       "<style scoped>\n",
       "    .dataframe tbody tr th:only-of-type {\n",
       "        vertical-align: middle;\n",
       "    }\n",
       "\n",
       "    .dataframe tbody tr th {\n",
       "        vertical-align: top;\n",
       "    }\n",
       "\n",
       "    .dataframe thead th {\n",
       "        text-align: right;\n",
       "    }\n",
       "</style>\n",
       "<table border=\"1\" class=\"dataframe\">\n",
       "  <thead>\n",
       "    <tr style=\"text-align: right;\">\n",
       "      <th></th>\n",
       "      <th>Country</th>\n",
       "      <th>C02 emissions in 1999</th>\n",
       "      <th>CO2 emissions in2018</th>\n",
       "      <th>AbsoluteChange(1999-2018)</th>\n",
       "    </tr>\n",
       "  </thead>\n",
       "  <tbody>\n",
       "    <tr>\n",
       "      <th>212</th>\n",
       "      <td>Venezuela</td>\n",
       "      <td>172560000</td>\n",
       "      <td>129600000</td>\n",
       "      <td>-0.4296</td>\n",
       "    </tr>\n",
       "    <tr>\n",
       "      <th>213</th>\n",
       "      <td>Vietnam</td>\n",
       "      <td>46660000</td>\n",
       "      <td>211770000</td>\n",
       "      <td>1.6511</td>\n",
       "    </tr>\n",
       "    <tr>\n",
       "      <th>214</th>\n",
       "      <td>Yemen</td>\n",
       "      <td>13720000</td>\n",
       "      <td>9950000</td>\n",
       "      <td>-0.0377</td>\n",
       "    </tr>\n",
       "    <tr>\n",
       "      <th>215</th>\n",
       "      <td>Zambia</td>\n",
       "      <td>1780000</td>\n",
       "      <td>6930000</td>\n",
       "      <td>0.0515</td>\n",
       "    </tr>\n",
       "    <tr>\n",
       "      <th>216</th>\n",
       "      <td>Zimbabwe</td>\n",
       "      <td>15730000</td>\n",
       "      <td>11340000</td>\n",
       "      <td>-0.0439</td>\n",
       "    </tr>\n",
       "  </tbody>\n",
       "</table>\n",
       "</div>"
      ],
      "text/plain": [
       "       Country C02 emissions in 1999 CO2 emissions in2018  \\\n",
       "212  Venezuela             172560000            129600000   \n",
       "213    Vietnam              46660000            211770000   \n",
       "214      Yemen              13720000              9950000   \n",
       "215     Zambia               1780000              6930000   \n",
       "216   Zimbabwe              15730000             11340000   \n",
       "\n",
       "     AbsoluteChange(1999-2018)  \n",
       "212                    -0.4296  \n",
       "213                     1.6511  \n",
       "214                    -0.0377  \n",
       "215                     0.0515  \n",
       "216                    -0.0439  "
      ]
     },
     "execution_count": 3,
     "metadata": {},
     "output_type": "execute_result"
    }
   ],
   "source": [
    "df.tail()"
   ]
  },
  {
   "cell_type": "markdown",
   "metadata": {},
   "source": [
    "- AS we are only analysing Absolute change only columns of Absolute change are of importance to us."
   ]
  },
  {
   "cell_type": "code",
   "execution_count": 4,
   "metadata": {},
   "outputs": [
    {
     "data": {
      "text/plain": [
       "0    0.096405\n",
       "1    0.045905\n",
       "2   -0.000487\n",
       "3    0.285500\n",
       "4    0.000665\n",
       "Name: AbsoluteChange(1999-2018), dtype: float64"
      ]
     },
     "execution_count": 4,
     "metadata": {},
     "output_type": "execute_result"
    }
   ],
   "source": [
    "AC=df['AbsoluteChange(1999-2018)'] #AC choosen for absolute change\n",
    "AC.head()"
   ]
  },
  {
   "cell_type": "markdown",
   "metadata": {},
   "source": [
    "- AC is the random variable of Absolute change between the year 1999-2018"
   ]
  },
  {
   "cell_type": "code",
   "execution_count": 5,
   "metadata": {},
   "outputs": [],
   "source": [
    "x=np.linspace(0,217,217)"
   ]
  },
  {
   "cell_type": "markdown",
   "metadata": {},
   "source": [
    "- Let's analyse AC and see its true distribution"
   ]
  },
  {
   "cell_type": "code",
   "execution_count": 6,
   "metadata": {},
   "outputs": [
    {
     "name": "stdout",
     "output_type": "stream",
     "text": [
      "True mean of AC is 0.48220284032258054\n"
     ]
    }
   ],
   "source": [
    "print('True mean of AC is',end=' ')\n",
    "print(np.nanmean(AC))\n",
    "mu=np.nanmean(AC)"
   ]
  },
  {
   "cell_type": "markdown",
   "metadata": {},
   "source": [
    "## Average change in CO2 emission from 1999-2018 is 48220284 tonnes."
   ]
  },
  {
   "cell_type": "code",
   "execution_count": 7,
   "metadata": {},
   "outputs": [
    {
     "name": "stdout",
     "output_type": "stream",
     "text": [
      "True standard deviation of AC is 4.786040442072372\n"
     ]
    }
   ],
   "source": [
    "print('True standard deviation of AC is',end=' ')\n",
    "print(np.nanstd(AC))"
   ]
  },
  {
   "cell_type": "code",
   "execution_count": 8,
   "metadata": {},
   "outputs": [
    {
     "name": "stdout",
     "output_type": "stream",
     "text": [
      "True variance of AC is 22.906183113152306\n"
     ]
    }
   ],
   "source": [
    "print('True variance of AC is',end=' ')\n",
    "print(np.nanvar(AC))"
   ]
  },
  {
   "cell_type": "code",
   "execution_count": 9,
   "metadata": {},
   "outputs": [
    {
     "data": {
      "text/plain": [
       "Text(0.5, 1.0, 'True plot for the Scaled Absolute change in CO2 emissions')"
      ]
     },
     "execution_count": 9,
     "metadata": {},
     "output_type": "execute_result"
    },
    {
     "data": {
      "image/png": "[encoded data removed]",
      "text/plain": [
       "<Figure size 1440x720 with 1 Axes>"
      ]
     },
     "metadata": {
      "needs_background": "light"
     },
     "output_type": "display_data"
    }
   ],
   "source": [
    "#plot of AC\n",
    "plt.figure(figsize=(20,10))\n",
    "plt.plot(x,AC) #This is the true distribution of the scaled absolute change\n",
    "plt.xlabel('Index for the countries')\n",
    "plt.ylabel('Scaled Absolute Change of CO2 emissions')\n",
    "plt.title('True plot for the Scaled Absolute change in CO2 emissions')"
   ]
  },
  {
   "cell_type": "code",
   "execution_count": 10,
   "metadata": {},
   "outputs": [
    {
     "data": {
      "image/png": "[encoded data removed]",
      "text/plain": [
       "<Figure size 432x288 with 1 Axes>"
      ]
     },
     "metadata": {
      "needs_background": "light"
     },
     "output_type": "display_data"
    }
   ],
   "source": [
    "#For plotting marginal distribution we have to plot the histogram for AC\n",
    "plot=plt.hist(AC,bins=60,density=True);"
   ]
  },
  {
   "cell_type": "code",
   "execution_count": 11,
   "metadata": {},
   "outputs": [
    {
     "name": "stdout",
     "output_type": "stream",
     "text": [
      "67.0\n",
      "-7.3\n"
     ]
    },
    {
     "data": {
      "image/png": "[encoded data removed]",
      "text/plain": [
       "<Figure size 1440x720 with 1 Axes>"
      ]
     },
     "metadata": {
      "needs_background": "light"
     },
     "output_type": "display_data"
    }
   ],
   "source": [
    "#Bar plot  of Scaled Absolute change for better visualization of negative values\n",
    "plt.figure(figsize=(20,10))\n",
    "barplot=plt.bar(x,AC)\n",
    "ymax=max(AC)\n",
    "print(ymax)\n",
    "ymin=min(AC)\n",
    "print(ymin)"
   ]
  },
  {
   "cell_type": "code",
   "execution_count": 12,
   "metadata": {},
   "outputs": [
    {
     "name": "stdout",
     "output_type": "stream",
     "text": [
      "39\n",
      "55\n"
     ]
    }
   ],
   "source": [
    "'''For finding the countries with max and min change of Carbon emissions we need to find it's Index'''\n",
    "for i in range(217):\n",
    "    if AC[i]==67:\n",
    "        print(i)\n",
    "    else:\n",
    "        pass\n",
    "for i in range(217):\n",
    "    if AC[i]==-7.3:\n",
    "        print(i)\n",
    "    else:\n",
    "        pass"
   ]
  },
  {
   "cell_type": "code",
   "execution_count": 13,
   "metadata": {},
   "outputs": [
    {
     "data": {
      "text/plain": [
       "Country                           China\n",
       "C02 emissions in 1999        3260000000\n",
       "CO2 emissions in2018         9960000000\n",
       "AbsoluteChange(1999-2018)          67.0\n",
       "Name: 39, dtype: object"
      ]
     },
     "execution_count": 13,
     "metadata": {},
     "output_type": "execute_result"
    }
   ],
   "source": [
    "df.iloc[39]"
   ]
  },
  {
   "cell_type": "code",
   "execution_count": 14,
   "metadata": {},
   "outputs": [
    {
     "data": {
      "text/plain": [
       "Country                           EU-28\n",
       "C02 emissions in 1999        4160000000\n",
       "CO2 emissions in2018         3430000000\n",
       "AbsoluteChange(1999-2018)          -7.3\n",
       "Name: 55, dtype: object"
      ]
     },
     "execution_count": 14,
     "metadata": {},
     "output_type": "execute_result"
    }
   ],
   "source": [
    "df.iloc[55]"
   ]
  },
  {
   "cell_type": "markdown",
   "metadata": {},
   "source": [
    "- China has the Maximum positive change for the CO2 emission."
   ]
  },
  {
   "cell_type": "markdown",
   "metadata": {},
   "source": [
    "- While in European union CO2 emission has decreased the most."
   ]
  },
  {
   "cell_type": "code",
   "execution_count": 15,
   "metadata": {},
   "outputs": [],
   "source": [
    "#Now let's see the contries which has significant amount of emissions.\n",
    "condition=(df['AbsoluteChange(1999-2018)']>1.0)"
   ]
  },
  {
   "cell_type": "code",
   "execution_count": 16,
   "metadata": {},
   "outputs": [
    {
     "data": {
      "text/html": [
       "<div>\n",
       "<style scoped>\n",
       "    .dataframe tbody tr th:only-of-type {\n",
       "        vertical-align: middle;\n",
       "    }\n",
       "\n",
       "    .dataframe tbody tr th {\n",
       "        vertical-align: top;\n",
       "    }\n",
       "\n",
       "    .dataframe thead th {\n",
       "        text-align: right;\n",
       "    }\n",
       "</style>\n",
       "<table border=\"1\" class=\"dataframe\">\n",
       "  <thead>\n",
       "    <tr style=\"text-align: right;\">\n",
       "      <th></th>\n",
       "      <th>Country</th>\n",
       "      <th>C02 emissions in 1999</th>\n",
       "      <th>CO2 emissions in2018</th>\n",
       "      <th>AbsoluteChange(1999-2018)</th>\n",
       "    </tr>\n",
       "  </thead>\n",
       "  <tbody>\n",
       "    <tr>\n",
       "      <th>26</th>\n",
       "      <td>Brazil</td>\n",
       "      <td>316280000</td>\n",
       "      <td>466650000</td>\n",
       "      <td>1.5037</td>\n",
       "    </tr>\n",
       "    <tr>\n",
       "      <th>39</th>\n",
       "      <td>China</td>\n",
       "      <td>3260000000</td>\n",
       "      <td>9960000000</td>\n",
       "      <td>67.0000</td>\n",
       "    </tr>\n",
       "    <tr>\n",
       "      <th>57</th>\n",
       "      <td>Egypt</td>\n",
       "      <td>124500000</td>\n",
       "      <td>251460000</td>\n",
       "      <td>1.2696</td>\n",
       "    </tr>\n",
       "    <tr>\n",
       "      <th>66</th>\n",
       "      <td>Europe (excl. EU-28)</td>\n",
       "      <td>2010000000</td>\n",
       "      <td>2180000000</td>\n",
       "      <td>1.7000</td>\n",
       "    </tr>\n",
       "    <tr>\n",
       "      <th>89</th>\n",
       "      <td>India</td>\n",
       "      <td>951670000</td>\n",
       "      <td>2590000000</td>\n",
       "      <td>16.3833</td>\n",
       "    </tr>\n",
       "    <tr>\n",
       "      <th>90</th>\n",
       "      <td>Indonesia</td>\n",
       "      <td>243950000</td>\n",
       "      <td>576580000</td>\n",
       "      <td>3.3263</td>\n",
       "    </tr>\n",
       "    <tr>\n",
       "      <th>91</th>\n",
       "      <td>International transport</td>\n",
       "      <td>765730000</td>\n",
       "      <td>1260000000</td>\n",
       "      <td>4.9427</td>\n",
       "    </tr>\n",
       "    <tr>\n",
       "      <th>92</th>\n",
       "      <td>Iran</td>\n",
       "      <td>379630000</td>\n",
       "      <td>755400000</td>\n",
       "      <td>3.7577</td>\n",
       "    </tr>\n",
       "    <tr>\n",
       "      <th>93</th>\n",
       "      <td>Iraq</td>\n",
       "      <td>71680000</td>\n",
       "      <td>211270000</td>\n",
       "      <td>1.3959</td>\n",
       "    </tr>\n",
       "    <tr>\n",
       "      <th>100</th>\n",
       "      <td>Kazakhstan</td>\n",
       "      <td>124950000</td>\n",
       "      <td>319650000</td>\n",
       "      <td>1.9470</td>\n",
       "    </tr>\n",
       "    <tr>\n",
       "      <th>117</th>\n",
       "      <td>Malaysia</td>\n",
       "      <td>108290000</td>\n",
       "      <td>249140000</td>\n",
       "      <td>1.4085</td>\n",
       "    </tr>\n",
       "    <tr>\n",
       "      <th>144</th>\n",
       "      <td>North America (excl. USA)</td>\n",
       "      <td>1060000000</td>\n",
       "      <td>1210000000</td>\n",
       "      <td>1.5000</td>\n",
       "    </tr>\n",
       "    <tr>\n",
       "      <th>150</th>\n",
       "      <td>Pakistan</td>\n",
       "      <td>99390000</td>\n",
       "      <td>247430000</td>\n",
       "      <td>1.4804</td>\n",
       "    </tr>\n",
       "    <tr>\n",
       "      <th>161</th>\n",
       "      <td>Russia</td>\n",
       "      <td>1490000000</td>\n",
       "      <td>1690000000</td>\n",
       "      <td>2.0000</td>\n",
       "    </tr>\n",
       "    <tr>\n",
       "      <th>170</th>\n",
       "      <td>Saudi Arabia</td>\n",
       "      <td>225980000</td>\n",
       "      <td>576760000</td>\n",
       "      <td>3.5078</td>\n",
       "    </tr>\n",
       "    <tr>\n",
       "      <th>182</th>\n",
       "      <td>South America</td>\n",
       "      <td>827700000</td>\n",
       "      <td>1100000000</td>\n",
       "      <td>2.7230</td>\n",
       "    </tr>\n",
       "    <tr>\n",
       "      <th>183</th>\n",
       "      <td>South Korea</td>\n",
       "      <td>398330000</td>\n",
       "      <td>634930000</td>\n",
       "      <td>2.3660</td>\n",
       "    </tr>\n",
       "    <tr>\n",
       "      <th>195</th>\n",
       "      <td>Thailand</td>\n",
       "      <td>166140000</td>\n",
       "      <td>292450000</td>\n",
       "      <td>1.2631</td>\n",
       "    </tr>\n",
       "    <tr>\n",
       "      <th>200</th>\n",
       "      <td>Turkey</td>\n",
       "      <td>207800000</td>\n",
       "      <td>419190000</td>\n",
       "      <td>2.1139</td>\n",
       "    </tr>\n",
       "    <tr>\n",
       "      <th>206</th>\n",
       "      <td>United Arab Emirates</td>\n",
       "      <td>77540000</td>\n",
       "      <td>188540000</td>\n",
       "      <td>1.1100</td>\n",
       "    </tr>\n",
       "    <tr>\n",
       "      <th>213</th>\n",
       "      <td>Vietnam</td>\n",
       "      <td>46660000</td>\n",
       "      <td>211770000</td>\n",
       "      <td>1.6511</td>\n",
       "    </tr>\n",
       "  </tbody>\n",
       "</table>\n",
       "</div>"
      ],
      "text/plain": [
       "                       Country C02 emissions in 1999 CO2 emissions in2018  \\\n",
       "26                      Brazil             316280000            466650000   \n",
       "39                       China            3260000000           9960000000   \n",
       "57                       Egypt             124500000            251460000   \n",
       "66        Europe (excl. EU-28)            2010000000           2180000000   \n",
       "89                       India             951670000           2590000000   \n",
       "90                   Indonesia             243950000            576580000   \n",
       "91     International transport             765730000           1260000000   \n",
       "92                        Iran             379630000            755400000   \n",
       "93                        Iraq              71680000            211270000   \n",
       "100                 Kazakhstan             124950000            319650000   \n",
       "117                   Malaysia             108290000            249140000   \n",
       "144  North America (excl. USA)            1060000000           1210000000   \n",
       "150                   Pakistan              99390000            247430000   \n",
       "161                     Russia            1490000000           1690000000   \n",
       "170               Saudi Arabia             225980000            576760000   \n",
       "182              South America             827700000           1100000000   \n",
       "183                South Korea             398330000            634930000   \n",
       "195                   Thailand             166140000            292450000   \n",
       "200                     Turkey             207800000            419190000   \n",
       "206       United Arab Emirates              77540000            188540000   \n",
       "213                    Vietnam              46660000            211770000   \n",
       "\n",
       "     AbsoluteChange(1999-2018)  \n",
       "26                      1.5037  \n",
       "39                     67.0000  \n",
       "57                      1.2696  \n",
       "66                      1.7000  \n",
       "89                     16.3833  \n",
       "90                      3.3263  \n",
       "91                      4.9427  \n",
       "92                      3.7577  \n",
       "93                      1.3959  \n",
       "100                     1.9470  \n",
       "117                     1.4085  \n",
       "144                     1.5000  \n",
       "150                     1.4804  \n",
       "161                     2.0000  \n",
       "170                     3.5078  \n",
       "182                     2.7230  \n",
       "183                     2.3660  \n",
       "195                     1.2631  \n",
       "200                     2.1139  \n",
       "206                     1.1100  \n",
       "213                     1.6511  "
      ]
     },
     "execution_count": 16,
     "metadata": {},
     "output_type": "execute_result"
    }
   ],
   "source": [
    "df[condition]"
   ]
  },
  {
   "cell_type": "markdown",
   "metadata": {},
   "source": [
    "- For above all the countries,continents and international transport the change of CO2 emission is over 100 million tonnes."
   ]
  },
  {
   "cell_type": "markdown",
   "metadata": {},
   "source": [
    "- Now Let's move on to sampling distribution through probabilistic programming"
   ]
  },
  {
   "cell_type": "markdown",
   "metadata": {},
   "source": [
    "## Sampling distribution for mean"
   ]
  },
  {
   "cell_type": "code",
   "execution_count": 17,
   "metadata": {},
   "outputs": [],
   "source": [
    "from ipywidgets import interact,IntSlider,FloatSlider"
   ]
  },
  {
   "cell_type": "code",
   "execution_count": 18,
   "metadata": {},
   "outputs": [],
   "source": [
    "'''I am defining a function which takes argument as sample size and prints the mean of sampling distribution and\n",
    "plots histogram.'''\n",
    "def sample(n): \n",
    "    means=[]\n",
    "    for i in range(1000):\n",
    "        means.append(np.mean(np.random.choice(AC,size=n,replace=True)))\n",
    "    print('Sampling mean=',end=' ')\n",
    "    print(np.nanmean(means))\n",
    "    plt.hist(means,bins=60,density=True);\n",
    "    ymin,ymax=plt.ylim()\n",
    "    plt.title('Histogram of Sample mean')\n",
    "    plt.vlines(mu,0.,ymax,color='r',lw=1,alpha=0.5)#VERTICAL LINE CORRESPONDING TO TRUE MEAN"
   ]
  },
  {
   "cell_type": "code",
   "execution_count": 19,
   "metadata": {},
   "outputs": [
    {
     "data": {
      "application/vnd.jupyter.widget-view+json": {
       "model_id": "554631e574d4423c9e3d3d103fb9e6a3",
       "version_major": 2,
       "version_minor": 0
      },
      "text/plain": [
       "interactive(children=(IntSlider(value=52, description='n', min=5), Output()), _dom_classes=('widget-interact',…"
      ]
     },
     "metadata": {},
     "output_type": "display_data"
    },
    {
     "data": {
      "text/plain": [
       "<function __main__.sample(n)>"
      ]
     },
     "execution_count": 19,
     "metadata": {},
     "output_type": "execute_result"
    }
   ],
   "source": [
    "interact(sample,n=(5,100))"
   ]
  },
  {
   "cell_type": "markdown",
   "metadata": {},
   "source": [
    "- We can see that sample mean is so close to the true mean"
   ]
  },
  {
   "cell_type": "code",
   "execution_count": 20,
   "metadata": {},
   "outputs": [],
   "source": [
    "#For confidence interval of 95% using percentile formula"
   ]
  },
  {
   "cell_type": "code",
   "execution_count": 21,
   "metadata": {},
   "outputs": [],
   "source": [
    "def confidence_interval(n,percent):\n",
    "    means=[]\n",
    "    for i in range(1000):\n",
    "        means.append(np.mean(np.random.choice(AC,size=n,replace=True)))\n",
    "    print(np.nanpercentile(means,[(100-percent)/2,100-(100-percent)/2]))"
   ]
  },
  {
   "cell_type": "code",
   "execution_count": 22,
   "metadata": {},
   "outputs": [
    {
     "data": {
      "application/vnd.jupyter.widget-view+json": {
       "model_id": "0293aa01a9d047d0970bba18ee48aedc",
       "version_major": 2,
       "version_minor": 0
      },
      "text/plain": [
       "interactive(children=(IntSlider(value=52, description='n', min=5), IntSlider(value=50, description='percent', …"
      ]
     },
     "metadata": {},
     "output_type": "display_data"
    },
    {
     "data": {
      "text/plain": [
       "<function __main__.confidence_interval(n, percent)>"
      ]
     },
     "execution_count": 22,
     "metadata": {},
     "output_type": "execute_result"
    }
   ],
   "source": [
    "interact(confidence_interval,n=(5,100),percent=(1,99))"
   ]
  },
  {
   "cell_type": "markdown",
   "metadata": {},
   "source": [
    "- Now Let's move on to the next statistic variance"
   ]
  },
  {
   "cell_type": "code",
   "execution_count": 23,
   "metadata": {},
   "outputs": [],
   "source": [
    "def sam(n):\n",
    "    variances=[]\n",
    "    nexp=10000 #This is number of expirements\n",
    "    for i in range(nexp):\n",
    "        z=np.random.choice(AC,size=n,replace=True)\n",
    "        zbar=np.nanmean(z) #Sample mean for z\n",
    "        sum=0\n",
    "        for i in range(n):\n",
    "            sum+=(z[i]-zbar)**2/(n-1)\n",
    "        variances.append(sum)\n",
    "    print('Mean of all the sample variances=',end=' ')\n",
    "    print(np.nanmean(variances))\n",
    "    plt.hist(variances,bins=10,density=True)   "
   ]
  },
  {
   "cell_type": "code",
   "execution_count": 24,
   "metadata": {},
   "outputs": [
    {
     "data": {
      "application/vnd.jupyter.widget-view+json": {
       "model_id": "33ab0a2ca8e040848f63009eb604128a",
       "version_major": 2,
       "version_minor": 0
      },
      "text/plain": [
       "interactive(children=(IntSlider(value=52, description='n', min=5), Output()), _dom_classes=('widget-interact',…"
      ]
     },
     "metadata": {},
     "output_type": "display_data"
    },
    {
     "data": {
      "text/plain": [
       "<function __main__.sam(n)>"
      ]
     },
     "execution_count": 24,
     "metadata": {},
     "output_type": "execute_result"
    }
   ],
   "source": [
    "interact(sam,n=(5,100))"
   ]
  },
  {
   "cell_type": "markdown",
   "metadata": {},
   "source": [
    "------------------------------------------------------------------------------------------------------------------"
   ]
  },
  {
   "cell_type": "markdown",
   "metadata": {},
   "source": [
    "------------------------------------------------------------------------------------------------------------------"
   ]
  },
  {
   "cell_type": "markdown",
   "metadata": {},
   "source": [
    "- We can see that the variance here is very close to the true variance we calculated."
   ]
  },
  {
   "cell_type": "markdown",
   "metadata": {},
   "source": [
    "## Joint Distributions"
   ]
  },
  {
   "cell_type": "code",
   "execution_count": 25,
   "metadata": {},
   "outputs": [
    {
     "data": {
      "text/html": [
       "<div>\n",
       "<style scoped>\n",
       "    .dataframe tbody tr th:only-of-type {\n",
       "        vertical-align: middle;\n",
       "    }\n",
       "\n",
       "    .dataframe tbody tr th {\n",
       "        vertical-align: top;\n",
       "    }\n",
       "\n",
       "    .dataframe thead th {\n",
       "        text-align: right;\n",
       "    }\n",
       "</style>\n",
       "<table border=\"1\" class=\"dataframe\">\n",
       "  <thead>\n",
       "    <tr style=\"text-align: right;\">\n",
       "      <th></th>\n",
       "      <th>Country</th>\n",
       "      <th>CC</th>\n",
       "      <th>TC</th>\n",
       "      <th>FC</th>\n",
       "    </tr>\n",
       "  </thead>\n",
       "  <tbody>\n",
       "    <tr>\n",
       "      <th>0</th>\n",
       "      <td>Albania</td>\n",
       "      <td>0.045905</td>\n",
       "      <td>0.974247</td>\n",
       "      <td>0.00</td>\n",
       "    </tr>\n",
       "    <tr>\n",
       "      <th>1</th>\n",
       "      <td>Angola</td>\n",
       "      <td>0.285500</td>\n",
       "      <td>0.025205</td>\n",
       "      <td>0.00</td>\n",
       "    </tr>\n",
       "    <tr>\n",
       "      <th>2</th>\n",
       "      <td>Antigua and Barbuda</td>\n",
       "      <td>0.002234</td>\n",
       "      <td>0.071507</td>\n",
       "      <td>-101465.17</td>\n",
       "    </tr>\n",
       "    <tr>\n",
       "      <th>3</th>\n",
       "      <td>Armenia</td>\n",
       "      <td>0.032500</td>\n",
       "      <td>1.003836</td>\n",
       "      <td>176.50</td>\n",
       "    </tr>\n",
       "    <tr>\n",
       "      <th>4</th>\n",
       "      <td>Austria</td>\n",
       "      <td>0.011600</td>\n",
       "      <td>1.360548</td>\n",
       "      <td>143.13</td>\n",
       "    </tr>\n",
       "  </tbody>\n",
       "</table>\n",
       "</div>"
      ],
      "text/plain": [
       "               Country        CC        TC         FC\n",
       "0              Albania  0.045905  0.974247       0.00\n",
       "1               Angola  0.285500  0.025205       0.00\n",
       "2  Antigua and Barbuda  0.002234  0.071507 -101465.17\n",
       "3              Armenia  0.032500  1.003836     176.50\n",
       "4              Austria  0.011600  1.360548     143.13"
      ]
     },
     "execution_count": 25,
     "metadata": {},
     "output_type": "execute_result"
    }
   ],
   "source": [
    "df1=pd.read_csv('refined_data.csv')\n",
    "df1.head()"
   ]
  },
  {
   "cell_type": "code",
   "execution_count": 26,
   "metadata": {},
   "outputs": [],
   "source": [
    "CC=df1['CC'] #Data for CO2 emmisions change\n",
    "TC=df1['TC'] #Data for Temperature change\n",
    "FC=df1['FC'] #Data for Forest change"
   ]
  },
  {
   "cell_type": "code",
   "execution_count": 27,
   "metadata": {},
   "outputs": [],
   "source": [
    "m=np.linspace(0,177,177)"
   ]
  },
  {
   "cell_type": "code",
   "execution_count": 28,
   "metadata": {},
   "outputs": [
    {
     "data": {
      "image/png": "[encoded data removed]",
      "text/plain": [
       "<Figure size 1440x720 with 1 Axes>"
      ]
     },
     "metadata": {
      "needs_background": "light"
     },
     "output_type": "display_data"
    }
   ],
   "source": [
    "# Joint distribution for CO2 emission and temperature change\n",
    "plt.figure(figsize=(20,10))\n",
    "plt.hist((CC,TC),bins=50,density=True);"
   ]
  },
  {
   "cell_type": "code",
   "execution_count": 29,
   "metadata": {},
   "outputs": [
    {
     "data": {
      "image/png": "[encoded data removed]",
      "text/plain": [
       "<Figure size 1440x720 with 1 Axes>"
      ]
     },
     "metadata": {
      "needs_background": "light"
     },
     "output_type": "display_data"
    }
   ],
   "source": [
    "# Joint distribution for Forest change and temperature change\n",
    "plt.figure(figsize=(20,10))\n",
    "plt.hist((FC,TC),bins=50,density=True);"
   ]
  },
  {
   "cell_type": "markdown",
   "metadata": {},
   "source": [
    "## Analysis on Temperature change"
   ]
  },
  {
   "cell_type": "code",
   "execution_count": 1,
   "metadata": {},
   "outputs": [],
   "source": [
    "%matplotlib inline\n",
    "import numpy as np\n",
    "import pandas as pd\n",
    "from matplotlib import cm\n",
    "import matplotlib.pyplot as plt\n",
    "from pylab import *\n",
    "from scipy.stats import norm\n",
    "from ipywidgets import interact,IntSlider,FloatSlider"
   ]
  },
  {
   "cell_type": "code",
   "execution_count": 2,
   "metadata": {},
   "outputs": [
    {
     "data": {
      "text/html": [
       "<div>\n",
       "<style scoped>\n",
       "    .dataframe tbody tr th:only-of-type {\n",
       "        vertical-align: middle;\n",
       "    }\n",
       "\n",
       "    .dataframe tbody tr th {\n",
       "        vertical-align: top;\n",
       "    }\n",
       "\n",
       "    .dataframe thead th {\n",
       "        text-align: right;\n",
       "    }\n",
       "</style>\n",
       "<table border=\"1\" class=\"dataframe\">\n",
       "  <thead>\n",
       "    <tr style=\"text-align: right;\">\n",
       "      <th></th>\n",
       "      <th>Year</th>\n",
       "      <th>Value</th>\n",
       "    </tr>\n",
       "  </thead>\n",
       "  <tbody>\n",
       "    <tr>\n",
       "      <th>0</th>\n",
       "      <td>1960</td>\n",
       "      <td>0.05</td>\n",
       "    </tr>\n",
       "    <tr>\n",
       "      <th>1</th>\n",
       "      <td>1961</td>\n",
       "      <td>0.10</td>\n",
       "    </tr>\n",
       "    <tr>\n",
       "      <th>2</th>\n",
       "      <td>1962</td>\n",
       "      <td>0.11</td>\n",
       "    </tr>\n",
       "    <tr>\n",
       "      <th>3</th>\n",
       "      <td>1963</td>\n",
       "      <td>0.12</td>\n",
       "    </tr>\n",
       "    <tr>\n",
       "      <th>4</th>\n",
       "      <td>1964</td>\n",
       "      <td>-0.14</td>\n",
       "    </tr>\n",
       "  </tbody>\n",
       "</table>\n",
       "</div>"
      ],
      "text/plain": [
       "   Year  Value\n",
       "0  1960   0.05\n",
       "1  1961   0.10\n",
       "2  1962   0.11\n",
       "3  1963   0.12\n",
       "4  1964  -0.14"
      ]
     },
     "execution_count": 2,
     "metadata": {},
     "output_type": "execute_result"
    }
   ],
   "source": [
    "df3=pd.read_csv('data_temp.csv')\n",
    "df3.head()"
   ]
  },
  {
   "cell_type": "code",
   "execution_count": 27,
   "metadata": {},
   "outputs": [
    {
     "data": {
      "text/plain": [
       "0.35966666666666663"
      ]
     },
     "execution_count": 27,
     "metadata": {},
     "output_type": "execute_result"
    }
   ],
   "source": [
    "year=df3.columns[0]\n",
    "rv=df3[year[::]]\n",
    "rv1=rv.to_list()\n",
    "temp=df3.columns[1]\n",
    "rv2=df3[temp[::]]\n",
    "rv3=rv2.to_list()"
   ]
  },
  {
   "cell_type": "code",
   "execution_count": 4,
   "metadata": {},
   "outputs": [
    {
     "data": {
      "image/png": "[encoded data removed]",
      "text/plain": [
       "<Figure size 1440x720 with 1 Axes>"
      ]
     },
     "metadata": {
      "needs_background": "light"
     },
     "output_type": "display_data"
    }
   ],
   "source": [
    "plt.figure(figsize=(20,10))\n",
    "plt.scatter(rv1,rv3,color=cm.hot(rv3));\n",
    "plt.plot(rv1,rv3,'black')\n",
    "xlabel('YEARS')\n",
    "ylabel('CHANGE IN TEMPERATURE(°C)')\n",
    "title('INCREASE IN AVERAGE GLOBAL TEMPERATURE');"
   ]
  },
  {
   "cell_type": "code",
   "execution_count": 37,
   "metadata": {},
   "outputs": [
    {
     "name": "stdout",
     "output_type": "stream",
     "text": [
      "AVERAGE ANNUAL INCREASE IN TEMPERATURE(1960-2020) IS 0.015254237288135592 °C\n"
     ]
    }
   ],
   "source": [
    "average_increase=(rv3[-1]-rv3[0])/(rv1[-1]-rv1[0])\n",
    "print('AVERAGE ANNUAL INCREASE IN TEMPERATURE(1960-2020) IS',average_increase,'°C')"
   ]
  },
  {
   "cell_type": "code",
   "execution_count": 36,
   "metadata": {},
   "outputs": [
    {
     "data": {
      "text/html": [
       "<div>\n",
       "<style scoped>\n",
       "    .dataframe tbody tr th:only-of-type {\n",
       "        vertical-align: middle;\n",
       "    }\n",
       "\n",
       "    .dataframe tbody tr th {\n",
       "        vertical-align: top;\n",
       "    }\n",
       "\n",
       "    .dataframe thead th {\n",
       "        text-align: right;\n",
       "    }\n",
       "</style>\n",
       "<table border=\"1\" class=\"dataframe\">\n",
       "  <thead>\n",
       "    <tr style=\"text-align: right;\">\n",
       "      <th></th>\n",
       "      <th>Countries</th>\n",
       "      <th>Average 2018</th>\n",
       "      <th>Average 1999</th>\n",
       "    </tr>\n",
       "  </thead>\n",
       "  <tbody>\n",
       "    <tr>\n",
       "      <th>0</th>\n",
       "      <td>Albania</td>\n",
       "      <td>13.077534</td>\n",
       "      <td>12.103288</td>\n",
       "    </tr>\n",
       "    <tr>\n",
       "      <th>1</th>\n",
       "      <td>Angola</td>\n",
       "      <td>21.716712</td>\n",
       "      <td>21.691507</td>\n",
       "    </tr>\n",
       "    <tr>\n",
       "      <th>2</th>\n",
       "      <td>Antigua and Barbuda</td>\n",
       "      <td>26.467123</td>\n",
       "      <td>26.395616</td>\n",
       "    </tr>\n",
       "    <tr>\n",
       "      <th>3</th>\n",
       "      <td>Armenia</td>\n",
       "      <td>8.738630</td>\n",
       "      <td>7.734795</td>\n",
       "    </tr>\n",
       "    <tr>\n",
       "      <th>4</th>\n",
       "      <td>Austria</td>\n",
       "      <td>8.406849</td>\n",
       "      <td>7.046301</td>\n",
       "    </tr>\n",
       "  </tbody>\n",
       "</table>\n",
       "</div>"
      ],
      "text/plain": [
       "              Countries  Average 2018  Average 1999\n",
       "0               Albania     13.077534     12.103288\n",
       "1                Angola     21.716712     21.691507\n",
       "2   Antigua and Barbuda     26.467123     26.395616\n",
       "3               Armenia      8.738630      7.734795\n",
       "4               Austria      8.406849      7.046301"
      ]
     },
     "execution_count": 36,
     "metadata": {},
     "output_type": "execute_result"
    }
   ],
   "source": [
    "df = pd.read_excel('Temp_change_2.xlsx')\n",
    "df.to_csv\n",
    "df.head()"
   ]
  },
  {
   "cell_type": "code",
   "execution_count": 15,
   "metadata": {},
   "outputs": [
    {
     "data": {
      "text/plain": [
       "Countries       Marshall Islands\n",
       "Average 2018             29.3551\n",
       "Average 1999             28.7989\n",
       "dtype: object"
      ]
     },
     "execution_count": 15,
     "metadata": {},
     "output_type": "execute_result"
    }
   ],
   "source": [
    "df.max()"
   ]
  },
  {
   "cell_type": "code",
   "execution_count": 16,
   "metadata": {},
   "outputs": [],
   "source": [
    "year=df.columns[1::]\n",
    "inital=df[year[1]]\n",
    "final=df[year[0]]\n",
    "RV=final-inital\n",
    "RV1=RV.to_list()"
   ]
  },
  {
   "cell_type": "code",
   "execution_count": 34,
   "metadata": {},
   "outputs": [
    {
     "data": {
      "image/png": "[encoded data removed]",
      "text/plain": [
       "<Figure size 1440x720 with 1 Axes>"
      ]
     },
     "metadata": {
      "needs_background": "light"
     },
     "output_type": "display_data"
    }
   ],
   "source": [
    "plt.figure(figsize=(20,10))\n",
    "x=linspace(0,187,187)\n",
    "plt.plot(x,RV1,'g-');\n",
    "plt.scatter(x,RV1,color=cm.hot(RV1))\n",
    "ylabel('Temperature Change(°C)')\n",
    "xlabel('Countries')\n",
    "title('Global warming between 2018 and 1999');"
   ]
  },
  {
   "cell_type": "code",
   "execution_count": 19,
   "metadata": {},
   "outputs": [
    {
     "data": {
      "image/png": "[encoded data removed]",
      "text/plain": [
       "<Figure size 1440x720 with 1 Axes>"
      ]
     },
     "metadata": {
      "needs_background": "light"
     },
     "output_type": "display_data"
    }
   ],
   "source": [
    "plt.figure(figsize=(20,10))\n",
    "plt.bar(x,RV1)\n",
    "ylabel('Temperature Change(°C)')\n",
    "xlabel('COUNTRIES')\n",
    "title('Temperature change between 2018 and 1999');"
   ]
  },
  {
   "cell_type": "code",
   "execution_count": 20,
   "metadata": {},
   "outputs": [
    {
     "data": {
      "image/png": "[encoded data removed]",
      "text/plain": [
       "<Figure size 1440x720 with 1 Axes>"
      ]
     },
     "metadata": {
      "needs_background": "light"
     },
     "output_type": "display_data"
    }
   ],
   "source": [
    "plt.figure(figsize=(20,10))\n",
    "plt.hist(RV1,bins=50);"
   ]
  },
  {
   "cell_type": "code",
   "execution_count": 25,
   "metadata": {},
   "outputs": [
    {
     "name": "stdout",
     "output_type": "stream",
     "text": [
      "True Mean of Temperature change between 2018 and 1999 is  0.4141747862192512 °C\n",
      "Standard deviation of Temperature change between 2018 and 1999 is  0.4623328857851503 °C\n",
      "Average Annual Temperature Change between 2018 and 1999 is 0.020708739310962558 °C\n"
     ]
    }
   ],
   "source": [
    "mu=np.mean(RV)\n",
    "sigma=np.std(RV)\n",
    "print('True Mean of Temperature change between 2018 and 1999 is ',mu,'°C')\n",
    "print('Standard deviation of Temperature change between 2018 and 1999 is ',sigma,'°C')\n",
    "print('Average Annual Temperature Change between 2018 and 1999 is',mu/20,'°C')"
   ]
  },
  {
   "cell_type": "code",
   "execution_count": 29,
   "metadata": {},
   "outputs": [
    {
     "data": {
      "application/vnd.jupyter.widget-view+json": {
       "model_id": "178d43043c0345f0bf1aa7d03291c35b",
       "version_major": 2,
       "version_minor": 0
      },
      "text/plain": [
       "interactive(children=(IntSlider(value=50, description='sample_size', step=5), Output()), _dom_classes=('widget…"
      ]
     },
     "metadata": {},
     "output_type": "display_data"
    }
   ],
   "source": [
    "nexp=1000\n",
    "@interact\n",
    "def sampling_mean(sample_size=IntSlider(start=1,step=5,value=50)):\n",
    "    n=sample_size\n",
    "    sample_mean=[]\n",
    "    for i in np.arange(nexp):\n",
    "        sample_mean.append(np.mean(RV.sample(n,replace=True)))\n",
    "    dfmean=pd.DataFrame({'sample mean':sample_mean})\n",
    "    plt.figure(figsize=(20,10))\n",
    "    plt.hist(sample_mean,bins=50,density=True);\n",
    "    ymin,ymax=ylim()\n",
    "    title('HISTOGRAM OF SAMPLE MEAN')\n",
    "    plt.vlines(mu,0.,ymax,color='r',lw=3,alpha=0.6)#VERTICAL LINE CORRESPONDING TO TRUE MEAN"
   ]
  },
  {
   "cell_type": "code",
   "execution_count": 30,
   "metadata": {},
   "outputs": [
    {
     "name": "stdout",
     "output_type": "stream",
     "text": [
      "True Variance is 0.21375169727842483\n"
     ]
    }
   ],
   "source": [
    "true_variance=sigma**2\n",
    "print('True Variance is',true_variance)"
   ]
  },
  {
   "cell_type": "code",
   "execution_count": 31,
   "metadata": {},
   "outputs": [
    {
     "data": {
      "application/vnd.jupyter.widget-view+json": {
       "model_id": "9fdc1f64470d473cb28edac658fcd6e1",
       "version_major": 2,
       "version_minor": 0
      },
      "text/plain": [
       "interactive(children=(IntSlider(value=100, description='sample_size', step=5), Output()), _dom_classes=('widge…"
      ]
     },
     "metadata": {},
     "output_type": "display_data"
    }
   ],
   "source": [
    "@interact\n",
    "def sampling_variance(sample_size=IntSlider(start=1,step=5,value=100)):\n",
    "    n=sample_size\n",
    "    sample_variance=[]\n",
    "    for i in np.arange(nexp):\n",
    "        sample=RV.sample(n,replace=True)\n",
    "        terms=[]\n",
    "        for j in sample.index:\n",
    "            terms.append(((RV[j]-np.mean(sample))**2)/(n-1))\n",
    "        S2=np.sum(terms)\n",
    "        sample_variance.append(S2)\n",
    "    dfvar=pd.DataFrame({'sample variance':sample_variance})\n",
    "    plt.figure(figsize=(20,10))\n",
    "    plt.hist(sample_variance,bins=50,density=True);\n",
    "    ymin,ymax=ylim() \n",
    "    title('HISTOGRAM OF SAMPLE VARIANCE')\n",
    "    plt.vlines(sigma**2,0.,ymax,color='r',lw=3,alpha=0.5)#VERTICAL LINE CORRESPONDING TO TRUE VARIANCE"
   ]
  },
  {
   "cell_type": "code",
   "execution_count": 32,
   "metadata": {},
   "outputs": [
    {
     "data": {
      "application/vnd.jupyter.widget-view+json": {
       "model_id": "ed37992223fa46a88dbf1ee1d204cc10",
       "version_major": 2,
       "version_minor": 0
      },
      "text/plain": [
       "interactive(children=(IntSlider(value=50, description='n', max=150, min=-50), FloatSlider(value=95.0, descript…"
      ]
     },
     "metadata": {},
     "output_type": "display_data"
    }
   ],
   "source": [
    "@interact\n",
    "def interval_mean(n=50,confidence=FloatSlider(start=1,stop=100,step=5,value=95)):\n",
    "    sample_mean=[]\n",
    "    for i in np.arange(nexp):\n",
    "        sample_mean.append(np.mean(RV.sample(n,replace=True)))\n",
    "    cmin,cmax=np.percentile(sample_mean,[(100-confidence)/2,100-((100-confidence)/2)])\n",
    "    plt.figure(figsize=(20,10))\n",
    "    plt.hist(sample_mean,bins=50,density=True);\n",
    "    ymin,ymax=ylim()\n",
    "    plt.vlines(cmin,0.,ymax,color='r',lw=1,alpha=1)\n",
    "    plt.vlines(cmax,0.,ymax,color='r',lw=1,alpha=1)\n",
    "    print('Confidence interval is [',cmin,',',cmax,']')"
   ]
  },
  {
   "cell_type": "code",
   "execution_count": 33,
   "metadata": {},
   "outputs": [
    {
     "data": {
      "application/vnd.jupyter.widget-view+json": {
       "model_id": "4f6c1356caf246d1900184bea366ae04",
       "version_major": 2,
       "version_minor": 0
      },
      "text/plain": [
       "interactive(children=(IntSlider(value=50, description='n', max=150, min=-50), FloatSlider(value=95.0, descript…"
      ]
     },
     "metadata": {},
     "output_type": "display_data"
    }
   ],
   "source": [
    "@interact\n",
    "def interval_variance(n=50,confidence=FloatSlider(start=1,stop=100,step=5,value=95)):\n",
    "    sample_variance=[]\n",
    "    for i in np.arange(nexp):\n",
    "        sample=RV.sample(n,replace=True)\n",
    "        terms=[]\n",
    "        for j in sample.index:\n",
    "            terms.append(((RV[j]-np.mean(sample))**2)/(n-1))\n",
    "        S2=np.sum(terms)\n",
    "        sample_variance.append(S2)\n",
    "    cmin,cmax=np.nanpercentile(sample_variance,[(100-confidence)/2,100-((100-confidence)/2)])\n",
    "    plt.figure(figsize=(20,10))\n",
    "    plt.hist(sample_variance,bins=50,density=True);\n",
    "    ymin,ymax=ylim()\n",
    "    plt.vlines(cmin,0.,ymax,color='r',lw=1,alpha=1)\n",
    "    plt.vlines(cmax,0.,ymax,color='r',lw=1,alpha=1)\n",
    "    print('Confidence interval is [',cmin,',',cmax,']')"
   ]
  },
  {
   "cell_type": "markdown",
   "metadata": {},
   "source": [
    "## Hypothesis Testing"
   ]
  },
  {
   "cell_type": "code",
   "execution_count": 1,
   "metadata": {},
   "outputs": [],
   "source": [
    "%matplotlib inline\n",
    "import numpy as np\n",
    "import pandas as pd\n",
    "from scipy.stats import norm,t"
   ]
  },
  {
   "cell_type": "code",
   "execution_count": 2,
   "metadata": {},
   "outputs": [],
   "source": [
    "df = pd.read_excel(r'Annual temperature Averages.xlsx')\n",
    "df.to_csv;"
   ]
  },
  {
   "cell_type": "markdown",
   "metadata": {},
   "source": [
    "\n",
    "## Null Hypothesis \n",
    "<br>\n",
    "\n",
    "- **$H_{0}$ :** *There is a decrease in the average annual temperature of a region.* \n",
    "<br>\n",
    "\n",
    "   * $\\bar x_{d}$ is the mean of difference in sample of average annual temperature of a region in 2018 and 1999, i.e.,\n",
    "     * **$\\bar x_{d}$ < 0**\n",
    "\n",
    "<br>\n",
    "\n",
    "## Alternate Hypothesis\n",
    "<br>\n",
    "\n",
    "- **$H_{1}$ :** *There is an increase in the average annual temperature of a region.* \n",
    "<br>\n",
    "\n",
    "   * $\\bar x_{d}$ is the mean of difference in sample of average annual temperature of a region in 2018 and 1999, i.e.,\n",
    "       * **$\\bar x_{d}$ > 0** \n"
   ]
  },
  {
   "cell_type": "markdown",
   "metadata": {},
   "source": [
    "* We will be using **Paired t test** to test our hypothesis\n"
   ]
  },
  {
   "cell_type": "code",
   "execution_count": 3,
   "metadata": {},
   "outputs": [],
   "source": [
    "diff = df['Average 2018'] - df['Average 1999']"
   ]
  },
  {
   "cell_type": "markdown",
   "metadata": {},
   "source": [
    "## Test statistic (T)\n",
    "\n",
    "<br>\n",
    "\n",
    "* **T = $\\frac{\\bar x_{d} \\sqrt N}{s_d}$**"
   ]
  },
  {
   "cell_type": "code",
   "execution_count": 4,
   "metadata": {},
   "outputs": [],
   "source": [
    "# lets take the sample(N) of 100 countries\n",
    "N = 100\n",
    "sample_data = diff.sample(N)\n",
    "\n",
    "# Standred deviation for sample dataset\n",
    "s_d = np.std(sample_data, ddof=1)\n",
    "\n",
    "# Mean of sample data\n",
    "xbar_d = np.mean(sample_data)\n"
   ]
  },
  {
   "cell_type": "code",
   "execution_count": 5,
   "metadata": {},
   "outputs": [
    {
     "name": "stdout",
     "output_type": "stream",
     "text": [
      "Test statistic is equals to 7.139877405031942\n"
     ]
    }
   ],
   "source": [
    "T = (xbar_d)*np.sqrt(N)/s_d\n",
    "print(f'Test statistic is equals to {T}')"
   ]
  },
  {
   "cell_type": "markdown",
   "metadata": {},
   "source": [
    "* **Level of Significance, $\\alpha$ is 0.05.**\n",
    "\n",
    "<br>\n",
    "\n",
    "* This will be the t-distribution with degree of freedom **N-1.**"
   ]
  },
  {
   "cell_type": "code",
   "execution_count": 6,
   "metadata": {},
   "outputs": [
    {
     "name": "stdout",
     "output_type": "stream",
     "text": [
      "The p-value for our statistic is 7.923706135670727e-11\n"
     ]
    }
   ],
   "source": [
    "# p-value for T \n",
    "p = 1-t(N-1).cdf(T)\n",
    "print(f'The p-value for our statistic is {p}')"
   ]
  },
  {
   "cell_type": "markdown",
   "metadata": {},
   "source": [
    "### Decision:\n",
    "* The p-value calculated above is less than the level of significance, hence $H_{0}$ is rejected. \n",
    "* This means **$\\bar x_{d}$ > 0** and there is a increase in average annual temperature.\n",
    "\n",
    "<br>\n",
    "\n",
    "### Conclusion:\n",
    "* At a 5% level of significance, from the sample data, there is sufficient evidence to conclude that there is an increase in the average annual temperature of a region.\n"
   ]
  },
  {
   "cell_type": "markdown",
   "metadata": {},
   "source": [
    "## Relation analysis"
   ]
  },
  {
   "cell_type": "code",
   "execution_count": 130,
   "metadata": {
    "id": "el7BDJQQN5Rs"
   },
   "outputs": [],
   "source": [
    "import numpy as np\n",
    "from scipy.optimize import curve_fit\n",
    "import matplotlib.pyplot as plt\n",
    "from matplotlib.pyplot import figure\n",
    "from scipy import stats\n",
    "from sklearn import linear_model\n",
    "import pandas as pd\n",
    "import statsmodels.api as sm\n",
    "try:\n",
    "    import uncertainties.unumpy as unp\n",
    "    import uncertainties as unc\n",
    "except:\n",
    "    try:\n",
    "        from pip import main as pipmain\n",
    "    except:\n",
    "        from pip._internal import main as pipmain\n",
    "    pipmain(['install','uncertainties'])\n",
    "    import uncertainties.unumpy as unp\n",
    "    import uncertainties as unc\n",
    "%matplotlib inline"
   ]
  },
  {
   "cell_type": "markdown",
   "metadata": {
    "id": "3GRRBR2iOcLH"
   },
   "source": [
    "## **Reading data**"
   ]
  },
  {
   "cell_type": "code",
   "execution_count": 131,
   "metadata": {
    "colab": {
     "base_uri": "https://localhost:8080/",
     "height": 204
    },
    "id": "v42YTR4SbK0J",
    "outputId": "f3df7e27-abb6-472f-9c2c-43291e61883b"
   },
   "outputs": [
    {
     "data": {
      "text/html": [
       "<div>\n",
       "<style scoped>\n",
       "    .dataframe tbody tr th:only-of-type {\n",
       "        vertical-align: middle;\n",
       "    }\n",
       "\n",
       "    .dataframe tbody tr th {\n",
       "        vertical-align: top;\n",
       "    }\n",
       "\n",
       "    .dataframe thead th {\n",
       "        text-align: right;\n",
       "    }\n",
       "</style>\n",
       "<table border=\"1\" class=\"dataframe\">\n",
       "  <thead>\n",
       "    <tr style=\"text-align: right;\">\n",
       "      <th></th>\n",
       "      <th>Country</th>\n",
       "      <th>cc</th>\n",
       "      <th>tc</th>\n",
       "      <th>fc</th>\n",
       "    </tr>\n",
       "  </thead>\n",
       "  <tbody>\n",
       "    <tr>\n",
       "      <th>0</th>\n",
       "      <td>Albania</td>\n",
       "      <td>4.590488</td>\n",
       "      <td>0.974247</td>\n",
       "      <td>0.00000</td>\n",
       "    </tr>\n",
       "    <tr>\n",
       "      <th>1</th>\n",
       "      <td>Angola</td>\n",
       "      <td>28.550000</td>\n",
       "      <td>0.025205</td>\n",
       "      <td>0.00000</td>\n",
       "    </tr>\n",
       "    <tr>\n",
       "      <th>2</th>\n",
       "      <td>Armenia</td>\n",
       "      <td>3.250000</td>\n",
       "      <td>1.003836</td>\n",
       "      <td>0.17650</td>\n",
       "    </tr>\n",
       "    <tr>\n",
       "      <th>3</th>\n",
       "      <td>Austria</td>\n",
       "      <td>1.160000</td>\n",
       "      <td>1.360548</td>\n",
       "      <td>0.14313</td>\n",
       "    </tr>\n",
       "    <tr>\n",
       "      <th>4</th>\n",
       "      <td>Bahamas</td>\n",
       "      <td>0.080000</td>\n",
       "      <td>0.587123</td>\n",
       "      <td>-47.69600</td>\n",
       "    </tr>\n",
       "  </tbody>\n",
       "</table>\n",
       "</div>"
      ],
      "text/plain": [
       "   Country         cc        tc        fc\n",
       "0  Albania   4.590488  0.974247   0.00000\n",
       "1   Angola  28.550000  0.025205   0.00000\n",
       "2  Armenia   3.250000  1.003836   0.17650\n",
       "3  Austria   1.160000  1.360548   0.14313\n",
       "4  Bahamas   0.080000  0.587123 -47.69600"
      ]
     },
     "execution_count": 131,
     "metadata": {},
     "output_type": "execute_result"
    }
   ],
   "source": [
    "df = pd.read_csv('ae.csv')\n",
    "df.head()\n",
    "#cc = Carbon dioxide emission change\n",
    "#fc = forest cover change\n",
    "#tc = temperature change"
   ]
  },
  {
   "cell_type": "code",
   "execution_count": 132,
   "metadata": {
    "colab": {
     "base_uri": "https://localhost:8080/",
     "height": 142
    },
    "id": "_ChP6eN8Qj7w",
    "outputId": "89349c03-a10b-470d-957b-b99eaf36fa72"
   },
   "outputs": [
    {
     "data": {
      "text/html": [
       "<div>\n",
       "<style scoped>\n",
       "    .dataframe tbody tr th:only-of-type {\n",
       "        vertical-align: middle;\n",
       "    }\n",
       "\n",
       "    .dataframe tbody tr th {\n",
       "        vertical-align: top;\n",
       "    }\n",
       "\n",
       "    .dataframe thead th {\n",
       "        text-align: right;\n",
       "    }\n",
       "</style>\n",
       "<table border=\"1\" class=\"dataframe\">\n",
       "  <thead>\n",
       "    <tr style=\"text-align: right;\">\n",
       "      <th></th>\n",
       "      <th>cc</th>\n",
       "      <th>tc</th>\n",
       "      <th>fc</th>\n",
       "    </tr>\n",
       "  </thead>\n",
       "  <tbody>\n",
       "    <tr>\n",
       "      <th>cc</th>\n",
       "      <td>1.000000</td>\n",
       "      <td>-0.139357</td>\n",
       "      <td>0.013241</td>\n",
       "    </tr>\n",
       "    <tr>\n",
       "      <th>tc</th>\n",
       "      <td>-0.139357</td>\n",
       "      <td>1.000000</td>\n",
       "      <td>-0.085059</td>\n",
       "    </tr>\n",
       "    <tr>\n",
       "      <th>fc</th>\n",
       "      <td>0.013241</td>\n",
       "      <td>-0.085059</td>\n",
       "      <td>1.000000</td>\n",
       "    </tr>\n",
       "  </tbody>\n",
       "</table>\n",
       "</div>"
      ],
      "text/plain": [
       "          cc        tc        fc\n",
       "cc  1.000000 -0.139357  0.013241\n",
       "tc -0.139357  1.000000 -0.085059\n",
       "fc  0.013241 -0.085059  1.000000"
      ]
     },
     "execution_count": 132,
     "metadata": {},
     "output_type": "execute_result"
    }
   ],
   "source": [
    "df.corr()"
   ]
  },
  {
   "cell_type": "markdown",
   "metadata": {
    "id": "8q2iHgj0TxGJ"
   },
   "source": [
    "## **Correlation between co2 change and temperature change**"
   ]
  },
  {
   "cell_type": "code",
   "execution_count": 133,
   "metadata": {
    "colab": {
     "base_uri": "https://localhost:8080/",
     "height": 265
    },
    "id": "pHBJPaz8SK-Q",
    "outputId": "75c5640e-9ef2-44d8-e050-f3a8d0b4b332"
   },
   "outputs": [
    {
     "data": {
      "image/png": "[encoded data removed]",
      "text/plain": [
       "<Figure size 432x288 with 1 Axes>"
      ]
     },
     "metadata": {
      "needs_background": "light"
     },
     "output_type": "display_data"
    }
   ],
   "source": [
    "plt.scatter(df['cc'], df['tc'])\n",
    "plt.show()"
   ]
  },
  {
   "cell_type": "code",
   "execution_count": 134,
   "metadata": {
    "colab": {
     "base_uri": "https://localhost:8080/"
    },
    "id": "xh1XzcI9TvOM",
    "outputId": "dd9e0cd9-67a0-4b07-d188-709cc6998559"
   },
   "outputs": [
    {
     "data": {
      "text/plain": [
       "array([[ 1.        , -0.13935742],\n",
       "       [-0.13935742,  1.        ]])"
      ]
     },
     "execution_count": 134,
     "metadata": {},
     "output_type": "execute_result"
    }
   ],
   "source": [
    "np.corrcoef(df['cc'], df['tc'])"
   ]
  },
  {
   "cell_type": "markdown",
   "metadata": {
    "id": "io4GOc-zPIMH"
   },
   "source": [
    "## **Correlation between forest cover change and temperature change**"
   ]
  },
  {
   "cell_type": "code",
   "execution_count": 135,
   "metadata": {
    "colab": {
     "base_uri": "https://localhost:8080/",
     "height": 265
    },
    "id": "Y0ZAKBICPHhZ",
    "outputId": "75dc7e66-e693-4e57-e279-2df8c6d185db"
   },
   "outputs": [
    {
     "data": {
      "image/png": "[encoded data removed]",
      "text/plain": [
       "<Figure size 432x288 with 1 Axes>"
      ]
     },
     "metadata": {
      "needs_background": "light"
     },
     "output_type": "display_data"
    }
   ],
   "source": [
    "plt.scatter(df['fc'], df['tc'])\n",
    "plt.show()"
   ]
  },
  {
   "cell_type": "code",
   "execution_count": 136,
   "metadata": {
    "colab": {
     "base_uri": "https://localhost:8080/"
    },
    "id": "ha6xiFInPgbQ",
    "outputId": "b0df556d-d9e8-42f1-f5e9-4fd3b0c25808"
   },
   "outputs": [
    {
     "data": {
      "text/plain": [
       "array([[ 1.        , -0.08505912],\n",
       "       [-0.08505912,  1.        ]])"
      ]
     },
     "execution_count": 136,
     "metadata": {},
     "output_type": "execute_result"
    }
   ],
   "source": [
    "np.corrcoef(df['fc'], df['tc'])"
   ]
  },
  {
   "cell_type": "markdown",
   "metadata": {
    "id": "anmUQyBVhTBD"
   },
   "source": [
    "## **Regression curve of temperature change and carbon emission change**"
   ]
  },
  {
   "cell_type": "code",
   "execution_count": 137,
   "metadata": {
    "colab": {
     "base_uri": "https://localhost:8080/"
    },
    "id": "80NbH03eRgp_",
    "outputId": "43c88e83-7ed2-4c9f-8393-1855c84024cb"
   },
   "outputs": [
    {
     "name": "stdout",
     "output_type": "stream",
     "text": [
      "                            OLS Regression Results                            \n",
      "==============================================================================\n",
      "Dep. Variable:                     tc   R-squared:                       0.019\n",
      "Model:                            OLS   Adj. R-squared:                  0.013\n",
      "Method:                 Least Squares   F-statistic:                     2.931\n",
      "Date:                Thu, 01 Jul 2021   Prob (F-statistic):             0.0890\n",
      "Time:                        00:45:17   Log-Likelihood:                -92.165\n",
      "No. Observations:                 150   AIC:                             188.3\n",
      "Df Residuals:                     148   BIC:                             194.4\n",
      "Df Model:                           1                                         \n",
      "Covariance Type:            nonrobust                                         \n",
      "==============================================================================\n",
      "                 coef    std err          t      P>|t|      [0.025      0.975]\n",
      "------------------------------------------------------------------------------\n",
      "const          0.4013      0.037     10.707      0.000       0.327       0.475\n",
      "cc            -0.0025      0.001     -1.712      0.089      -0.005       0.000\n",
      "==============================================================================\n",
      "Omnibus:                        5.637   Durbin-Watson:                   1.710\n",
      "Prob(Omnibus):                  0.060   Jarque-Bera (JB):                6.493\n",
      "Skew:                           0.253   Prob(JB):                       0.0389\n",
      "Kurtosis:                       3.885   Cond. No.                         26.6\n",
      "==============================================================================\n",
      "\n",
      "Notes:\n",
      "[1] Standard Errors assume that the covariance matrix of the errors is correctly specified.\n"
     ]
    }
   ],
   "source": [
    "\n",
    "\n",
    "#define response variable\n",
    "y = df['tc']\n",
    "\n",
    "#define explanatory variable\n",
    "x = df['cc']\n",
    "\n",
    "#add constant to predictor variables\n",
    "X = sm.add_constant(x)\n",
    "\n",
    "#fit linear regression model\n",
    "model = sm.OLS(y, X).fit()\n",
    "\n",
    "#view model summary\n",
    "print(model.summary())"
   ]
  },
  {
   "cell_type": "code",
   "execution_count": 138,
   "metadata": {
    "colab": {
     "base_uri": "https://localhost:8080/",
     "height": 265
    },
    "id": "gB60BQZGKxS4",
    "outputId": "53bfc4c5-867b-4c9e-8c78-9a2fb9ade4ee",
    "scrolled": true
   },
   "outputs": [
    {
     "data": {
      "image/png": "[encoded data removed]",
      "text/plain": [
       "<Figure size 432x288 with 1 Axes>"
      ]
     },
     "metadata": {
      "needs_background": "light"
     },
     "output_type": "display_data"
    }
   ],
   "source": [
    "Y_pred = -0.0025*x + 0.4013\n",
    "\n",
    "plt.scatter(x, y) \n",
    "plt.plot([min(x), max(x)], [min(Y_pred), max(Y_pred)], color='red')  # regression line\n",
    "plt.show()"
   ]
  },
  {
   "cell_type": "markdown",
   "metadata": {
    "id": "QjV4HsaiP29i"
   },
   "source": [
    "The **point estimate** of the above regression is the mean of Y_pred i.e. **0.388769**"
   ]
  },
  {
   "cell_type": "code",
   "execution_count": 139,
   "metadata": {
    "colab": {
     "base_uri": "https://localhost:8080/"
    },
    "id": "EZTh9ApcP9_m",
    "outputId": "57bb0304-9f3a-4102-fb26-a334685438f2"
   },
   "outputs": [
    {
     "name": "stdout",
     "output_type": "stream",
     "text": [
      "0.3886829386499999\n"
     ]
    }
   ],
   "source": [
    "print(np.mean(Y_pred))"
   ]
  },
  {
   "cell_type": "code",
   "execution_count": 140,
   "metadata": {},
   "outputs": [
    {
     "name": "stdout",
     "output_type": "stream",
     "text": [
      "Optimal Values\n",
      "a: -0.0024582073761021395\n",
      "b: 0.40126458498770234\n",
      "R^2: 0.019420490850346805\n",
      "Uncertainty\n",
      "a: -0.0025+/-0.0014\n",
      "b: 0.40+/-0.04\n"
     ]
    },
    {
     "data": {
      "image/png": "[encoded data removed]",
      "text/plain": [
       "<Figure size 432x288 with 1 Axes>"
      ]
     },
     "metadata": {
      "needs_background": "light"
     },
     "output_type": "display_data"
    },
    {
     "data": {
      "text/plain": [
       "<Figure size 3000x3000 with 0 Axes>"
      ]
     },
     "metadata": {},
     "output_type": "display_data"
    }
   ],
   "source": [
    "n = len(y)\n",
    "\n",
    "def f(x, a, b):\n",
    "    return a * x + b\n",
    "\n",
    "popt, pcov = curve_fit(f, x, y)\n",
    "\n",
    "# retrieve parameter values\n",
    "a = popt[0]\n",
    "b = popt[1]\n",
    "print('Optimal Values')\n",
    "print('a: ' + str(a))\n",
    "print('b: ' + str(b))\n",
    "\n",
    "# compute r^2\n",
    "r2 = 1.0-(sum((y-f(x,a,b))**2)/((n-1.0)*np.var(y,ddof=1)))\n",
    "print('R^2: ' + str(r2))\n",
    "\n",
    "# calculate parameter confidence interval\n",
    "a,b = unc.correlated_values(popt, pcov)\n",
    "print('Uncertainty')\n",
    "print('a: ' + str(a))\n",
    "print('b: ' + str(b))\n",
    "\n",
    "# plot data\n",
    "plt.scatter(x, y, s=3, label='Data')\n",
    "\n",
    "# calculate regression confidence interval\n",
    "px = np.linspace(-50, 50, 1000)\n",
    "py = a*px+b\n",
    "nom = unp.nominal_values(py)\n",
    "std = unp.std_devs(py)\n",
    "\n",
    "def predband(x, xd, yd, p, func, conf=0.95):\n",
    "    # x = requested points\n",
    "    # xd = x data\n",
    "    # yd = y data\n",
    "    # p = parameters\n",
    "    # func = function name\n",
    "    alpha = 1.0 - conf    # significance\n",
    "    N = xd.size          # data sample size\n",
    "    var_n = len(p)  # number of parameters\n",
    "    # Quantile of Student's t distribution for p=(1-alpha/2)\n",
    "    q = stats.t.ppf(1.0 - alpha / 2.0, N - var_n)\n",
    "    # Stdev of an individual measurement\n",
    "    se = np.sqrt(1. / (N - var_n) * \\\n",
    "                 np.sum((yd - func(xd, *p)) ** 2))\n",
    "    # Auxiliary definitions\n",
    "    sx = (x - xd.mean()) ** 2\n",
    "    sxd = np.sum((xd - xd.mean()) ** 2)\n",
    "    # Predicted values (best-fit model)\n",
    "    yp = func(x, *p)\n",
    "    # Prediction band\n",
    "    dy = q * se * np.sqrt(1.0+ (1.0/N) + (sx/sxd))\n",
    "    # Upper & lower prediction bands.\n",
    "    lpb, upb = yp - dy, yp + dy\n",
    "    return lpb, upb\n",
    "\n",
    "lpb, upb = predband(px, x, y, popt, f, conf=0.95)\n",
    "\n",
    "# plot the regression\n",
    "plt.plot(px, nom, c='black', label='y=a x + b')\n",
    "\n",
    "# uncertainty lines (95% confidence)\n",
    "plt.plot(px, nom - 1.96 * std, c='orange',\\\n",
    "         label='95% Confidence Region')\n",
    "plt.plot(px, nom + 1.96 * std, c='orange')\n",
    "# prediction band (95% confidence)\n",
    "plt.plot(px, lpb, 'k--',label='95% Prediction Band')\n",
    "plt.plot(px, upb, 'k--')\n",
    "plt.ylabel('y')\n",
    "plt.xlabel('x')\n",
    "plt.legend(loc='best')\n",
    "figure(figsize=(20, 20), dpi=150) \n",
    "plt.show()"
   ]
  },
  {
   "cell_type": "markdown",
   "metadata": {},
   "source": [
    "The above graph is the interval estimates of the linear regression."
   ]
  },
  {
   "cell_type": "markdown",
   "metadata": {
    "id": "ZT_Ky1gYhiYZ"
   },
   "source": [
    "## **Regression curve of temperature change and forest cover change**"
   ]
  },
  {
   "cell_type": "code",
   "execution_count": 141,
   "metadata": {
    "colab": {
     "base_uri": "https://localhost:8080/"
    },
    "id": "xGU7hbDTSJ1F",
    "outputId": "43a7c6d5-da26-40c7-8765-b6ed8daf4871"
   },
   "outputs": [
    {
     "name": "stdout",
     "output_type": "stream",
     "text": [
      "                            OLS Regression Results                            \n",
      "==============================================================================\n",
      "Dep. Variable:                     tc   R-squared:                       0.007\n",
      "Model:                            OLS   Adj. R-squared:                  0.001\n",
      "Method:                 Least Squares   F-statistic:                     1.079\n",
      "Date:                Thu, 01 Jul 2021   Prob (F-statistic):              0.301\n",
      "Time:                        00:45:18   Log-Likelihood:                -93.091\n",
      "No. Observations:                 150   AIC:                             190.2\n",
      "Df Residuals:                     148   BIC:                             196.2\n",
      "Df Model:                           1                                         \n",
      "Covariance Type:            nonrobust                                         \n",
      "==============================================================================\n",
      "                 coef    std err          t      P>|t|      [0.025      0.975]\n",
      "------------------------------------------------------------------------------\n",
      "const          0.3818      0.038     10.153      0.000       0.308       0.456\n",
      "fc            -0.0028      0.003     -1.039      0.301      -0.008       0.003\n",
      "==============================================================================\n",
      "Omnibus:                        6.654   Durbin-Watson:                   1.695\n",
      "Prob(Omnibus):                  0.036   Jarque-Bera (JB):                9.359\n",
      "Skew:                           0.210   Prob(JB):                      0.00928\n",
      "Kurtosis:                       4.150   Cond. No.                         14.1\n",
      "==============================================================================\n",
      "\n",
      "Notes:\n",
      "[1] Standard Errors assume that the covariance matrix of the errors is correctly specified.\n"
     ]
    }
   ],
   "source": [
    "\n",
    "#define response variable\n",
    "y = df['tc']\n",
    "\n",
    "#define explanatory variable\n",
    "x = df['fc']\n",
    "\n",
    "#add constant to predictor variables\n",
    "X = sm.add_constant(x)\n",
    "\n",
    "#fit linear regression model\n",
    "model = sm.OLS(y, X).fit()\n",
    "\n",
    "#view model summary\n",
    "print(model.summary())\n",
    "\n",
    " "
   ]
  },
  {
   "cell_type": "markdown",
   "metadata": {
    "id": "Ajp6Ur0KhN8O"
   },
   "source": [
    "The point estimate of the above regression is"
   ]
  },
  {
   "cell_type": "code",
   "execution_count": 142,
   "metadata": {
    "colab": {
     "base_uri": "https://localhost:8080/",
     "height": 265
    },
    "id": "E7QKWMwygzH4",
    "outputId": "3cd878d8-91e9-4e47-c6f9-cb7861fe2eb8",
    "scrolled": true
   },
   "outputs": [
    {
     "data": {
      "image/png": "[encoded data removed]",
      "text/plain": [
       "<Figure size 432x288 with 1 Axes>"
      ]
     },
     "metadata": {
      "needs_background": "light"
     },
     "output_type": "display_data"
    }
   ],
   "source": [
    "Y_pred = -0.0028*x + 0.3818\n",
    "\n",
    "plt.scatter(x,y) \n",
    "plt.plot([min(x), max(x)], [min(Y_pred), max(Y_pred)], color='red')  # regression line\n",
    "plt.show()"
   ]
  },
  {
   "cell_type": "markdown",
   "metadata": {
    "id": "r9al1ZQDQQcp"
   },
   "source": [
    "The **point estimate** of the above regression is the mean of Y_pred i.e. **0.388769**"
   ]
  },
  {
   "cell_type": "code",
   "execution_count": 143,
   "metadata": {
    "colab": {
     "base_uri": "https://localhost:8080/"
    },
    "id": "gITeQzrFQUCs",
    "outputId": "87998848-47b7-4d02-dbe5-a253a923b153"
   },
   "outputs": [
    {
     "name": "stdout",
     "output_type": "stream",
     "text": [
      "0.3887689734239998\n"
     ]
    }
   ],
   "source": [
    "print(np.mean(Y_pred))"
   ]
  },
  {
   "cell_type": "code",
   "execution_count": 144,
   "metadata": {},
   "outputs": [
    {
     "name": "stdout",
     "output_type": "stream",
     "text": [
      "Optimal Values\n",
      "a: -0.002822522767774195\n",
      "b: 0.38183341693769884\n",
      "R^2: 0.007235053579447315\n",
      "Uncertainty\n",
      "a: -0.0028+/-0.0027\n",
      "b: 0.38+/-0.04\n"
     ]
    },
    {
     "data": {
      "image/png": "[encoded data removed]",
      "text/plain": [
       "<Figure size 432x288 with 1 Axes>"
      ]
     },
     "metadata": {
      "needs_background": "light"
     },
     "output_type": "display_data"
    },
    {
     "data": {
      "text/plain": [
       "<Figure size 3000x3000 with 0 Axes>"
      ]
     },
     "metadata": {},
     "output_type": "display_data"
    }
   ],
   "source": [
    "n = len(y)\n",
    "\n",
    "def f(x, a, b):\n",
    "    return a * x + b\n",
    "\n",
    "popt, pcov = curve_fit(f, x, y)\n",
    "\n",
    "# retrieve parameter values\n",
    "a = popt[0]\n",
    "b = popt[1]\n",
    "print('Optimal Values')\n",
    "print('a: ' + str(a))\n",
    "print('b: ' + str(b))\n",
    "\n",
    "# compute r^2\n",
    "r2 = 1.0-(sum((y-f(x,a,b))**2)/((n-1.0)*np.var(y,ddof=1)))\n",
    "print('R^2: ' + str(r2))\n",
    "\n",
    "# calculate parameter confidence interval\n",
    "a,b = unc.correlated_values(popt, pcov)\n",
    "print('Uncertainty')\n",
    "print('a: ' + str(a))\n",
    "print('b: ' + str(b))\n",
    "\n",
    "# plot data\n",
    "plt.scatter(x, y, s=3, label='Data')\n",
    "\n",
    "# calculate regression confidence interval\n",
    "px = np.linspace(-50, 50, 1000)\n",
    "py = a*px+b\n",
    "nom = unp.nominal_values(py)\n",
    "std = unp.std_devs(py)\n",
    "\n",
    "def predband(x, xd, yd, p, func, conf=0.95):\n",
    "    # x = requested points\n",
    "    # xd = x data\n",
    "    # yd = y data\n",
    "    # p = parameters\n",
    "    # func = function name\n",
    "    alpha = 1.0 - conf    # significance\n",
    "    N = xd.size          # data sample size\n",
    "    var_n = len(p)  # number of parameters\n",
    "    # Quantile of Student's t distribution for p=(1-alpha/2)\n",
    "    q = stats.t.ppf(1.0 - alpha / 2.0, N - var_n)\n",
    "    # Stdev of an individual measurement\n",
    "    se = np.sqrt(1. / (N - var_n) * \\\n",
    "                 np.sum((yd - func(xd, *p)) ** 2))\n",
    "    # Auxiliary definitions\n",
    "    sx = (x - xd.mean()) ** 2\n",
    "    sxd = np.sum((xd - xd.mean()) ** 2)\n",
    "    # Predicted values (best-fit model)\n",
    "    yp = func(x, *p)\n",
    "    # Prediction band\n",
    "    dy = q * se * np.sqrt(1.0+ (1.0/N) + (sx/sxd))\n",
    "    # Upper & lower prediction bands.\n",
    "    lpb, upb = yp - dy, yp + dy\n",
    "    return lpb, upb\n",
    "\n",
    "lpb, upb = predband(px, x, y, popt, f, conf=0.95)\n",
    "\n",
    "# plot the regression\n",
    "plt.plot(px, nom, c='black', label='y=a x + b')\n",
    "\n",
    "# uncertainty lines (95% confidence)\n",
    "plt.plot(px, nom - 1.96 * std, c='orange',\\\n",
    "         label='95% Confidence Region')\n",
    "plt.plot(px, nom + 1.96 * std, c='orange')\n",
    "# prediction band (95% confidence)\n",
    "plt.plot(px, lpb, 'k--',label='95% Prediction Band')\n",
    "plt.plot(px, upb, 'k--')\n",
    "plt.ylabel('y')\n",
    "plt.xlabel('x')\n",
    "plt.legend(loc='best')\n",
    "figure(figsize=(20, 20), dpi=150) \n",
    "plt.show()"
   ]
  },
  {
   "cell_type": "markdown",
   "metadata": {},
   "source": [
    "The above graph is the interval estimates of the linear regression."
   ]
  },
  {
   "cell_type": "markdown",
   "metadata": {},
   "source": [
    "## **The multi variable regression**"
   ]
  },
  {
   "cell_type": "markdown",
   "metadata": {
    "id": "W0K0ZqKLuIoP"
   },
   "source": [
    "![2021-06-30 21_22_30-Window.png](data:image/png;base64,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)"
   ]
  },
  {
   "cell_type": "markdown",
   "metadata": {
    "id": "FyqDlZlJO3j6"
   },
   "source": [
    "here h is the value which needs to be predicted (Temperature change in this case) and X1 and X2 are the features of the model , in this case , Co2 emission change and forest cover change respectively."
   ]
  },
  {
   "cell_type": "markdown",
   "metadata": {
    "id": "QMv9iJJruMdC"
   },
   "source": [
    "![2021-06-30 21_22_19-Window.png](data:image/png;base64,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)"
   ]
  },
  {
   "cell_type": "code",
   "execution_count": 145,
   "metadata": {
    "colab": {
     "base_uri": "https://localhost:8080/"
    },
    "id": "HxQRtXy27AXJ",
    "outputId": "84991d22-e570-43a7-8638-fe97e7be9f19"
   },
   "outputs": [
    {
     "name": "stdout",
     "output_type": "stream",
     "text": [
      "                            OLS Regression Results                            \n",
      "==============================================================================\n",
      "Dep. Variable:                     tc   R-squared:                       0.026\n",
      "Model:                            OLS   Adj. R-squared:                  0.013\n",
      "Method:                 Least Squares   F-statistic:                     1.989\n",
      "Date:                Thu, 01 Jul 2021   Prob (F-statistic):              0.141\n",
      "Time:                        00:45:18   Log-Likelihood:                -91.633\n",
      "No. Observations:                 150   AIC:                             189.3\n",
      "Df Residuals:                     147   BIC:                             198.3\n",
      "Df Model:                           2                                         \n",
      "Covariance Type:            nonrobust                                         \n",
      "==============================================================================\n",
      "                 coef    std err          t      P>|t|      [0.025      0.975]\n",
      "------------------------------------------------------------------------------\n",
      "const          0.3943      0.038     10.353      0.000       0.319       0.470\n",
      "cc            -0.0024      0.001     -1.699      0.092      -0.005       0.000\n",
      "fc            -0.0028      0.003     -1.023      0.308      -0.008       0.003\n",
      "==============================================================================\n",
      "Omnibus:                        5.790   Durbin-Watson:                   1.708\n",
      "Prob(Omnibus):                  0.055   Jarque-Bera (JB):                6.676\n",
      "Skew:                           0.261   Prob(JB):                       0.0355\n",
      "Kurtosis:                       3.892   Cond. No.                         27.0\n",
      "==============================================================================\n",
      "\n",
      "Notes:\n",
      "[1] Standard Errors assume that the covariance matrix of the errors is correctly specified.\n"
     ]
    }
   ],
   "source": [
    "#define response variable\n",
    "y = df['tc']\n",
    "\n",
    "#define explanatory variable\n",
    "x = df[['cc','fc']]\n",
    "\n",
    "#add constant to predictor variables\n",
    "X = sm.add_constant(x)\n",
    "\n",
    "#fit linear regression model\n",
    "model = sm.OLS(y, X).fit()\n",
    "\n",
    "#view model summary\n",
    "print(model.summary())"
   ]
  },
  {
   "cell_type": "markdown",
   "metadata": {
    "id": "_kufDUzrNiP2"
   },
   "source": [
    "Therefore the hypothesis function is given as follows:\n",
    "\n",
    "**Temperature change = 0.3943 - 0.0024x(Co2 emission change) - 0.0028x(forest cover change)** "
   ]
  },
  {
   "cell_type": "markdown",
   "metadata": {},
   "source": [
    "R-squared: 0.026. This is known as the coefficient of determination. It is the proportion of the variance in the response variable that can be explained by the predictor variables. In this example, 2.6% of the variation in the temperature can be explained by the CO2 emission and the forest cover\n",
    "Prob (F-statistic): 0.141. This is the p-value associated with the overall F-statistic.  It tells us whether or not the regression model as a whole is statistically significant. In other words, it tells us if the two predictor variables combined have a statistically significant association with the response variable. In this case the p-value is not less than 0.05, which indicates that the predictor variables “cc” and “fc” combined doesn't have a statistically significant association with temperature change as far as our data goes."
   ]
  },
  {
   "cell_type": "markdown",
   "metadata": {},
   "source": [
    "## End"
   ]
  },
  {
   "cell_type": "markdown",
   "metadata": {},
   "source": [
    "----------------------------------------------------------------------------------------------------------------"
   ]
  }
 ],
 "metadata": {
  "kernelspec": {
   "display_name": "Python 3",
   "language": "python",
   "name": "python3"
  },
  "language_info": {
   "codemirror_mode": {
    "name": "ipython",
    "version": 3
   },
   "file_extension": ".py",
   "mimetype": "text/x-python",
   "name": "python",
   "nbconvert_exporter": "python",
   "pygments_lexer": "ipython3",
   "version": "3.8.5"
  }
 },
 "nbformat": 4,
 "nbformat_minor": 4
}
